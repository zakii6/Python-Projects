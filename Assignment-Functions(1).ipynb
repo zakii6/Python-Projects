{
 "cells": [
  {
   "cell_type": "markdown",
   "id": "33de1fad-b0e4-47b7-ad1e-382c2313abe1",
   "metadata": {},
   "source": [
    "# Assignment-Functions : 1"
   ]
  },
  {
   "cell_type": "raw",
   "id": "5cf80275-7d3c-4175-acef-2b08c596c3a0",
   "metadata": {},
   "source": [
    "1. Write a Python function to find the maximum of three numbers"
   ]
  },
  {
   "cell_type": "code",
   "execution_count": 9,
   "id": "54164b01-aea0-4795-8ccc-9a3997e86fb6",
   "metadata": {},
   "outputs": [
    {
     "name": "stdout",
     "output_type": "stream",
     "text": [
      "The maximum number is: 10\n"
     ]
    }
   ],
   "source": [
    "def find_max(num1, num2, num3):\n",
    " return max(num1, num2, num3)\n",
    "result = find_max(5, 10, 3)\n",
    "print(\"The maximum number is:\", result)"
   ]
  },
  {
   "cell_type": "raw",
   "id": "45dd7e28-969c-4052-a152-2550e22df361",
   "metadata": {},
   "source": [
    "2. Write a Python function to sum all the numbers in a list.\n",
    "Sample List : (8, 2, 3, 0, 7)\n",
    "Expected Output : 20 "
   ]
  },
  {
   "cell_type": "code",
   "execution_count": 11,
   "id": "3ff1ddd1-b4fc-4935-84fe-fea024a8edc1",
   "metadata": {},
   "outputs": [
    {
     "name": "stdout",
     "output_type": "stream",
     "text": [
      "The sum of the list is: 20\n"
     ]
    }
   ],
   "source": [
    "def sum_of_list(numbers):\n",
    " return sum(numbers)\n",
    "sample_list = [8, 2, 3, 0, 7]\n",
    "result = sum_of_list(sample_list)\n",
    "print(\"The sum of the list is:\", result)"
   ]
  },
  {
   "cell_type": "raw",
   "id": "e93da69c-48a4-492c-ac84-93957a51d01c",
   "metadata": {},
   "source": [
    "3. Write a Python function to multiply all the numbers in a list.\n",
    "Sample List : (8, 2, 3, -1, 7)\n",
    "Expected Output : -336 "
   ]
  },
  {
   "cell_type": "code",
   "execution_count": 15,
   "id": "3abbb393-50f0-49dd-a0c1-992ac92d75fe",
   "metadata": {},
   "outputs": [
    {
     "name": "stdout",
     "output_type": "stream",
     "text": [
      "The product of the list is: -336\n"
     ]
    }
   ],
   "source": [
    "def multiply_list(numbers):\n",
    "    result = 1\n",
    "    for num in numbers:\n",
    "        result *= num\n",
    "    return result\n",
    "sample_list = [8, 2, 3, -1, 7]\n",
    "result = multiply_list(sample_list)\n",
    "print(\"The product of the list is:\", result)"
   ]
  },
  {
   "cell_type": "raw",
   "id": "563ea4fd-fc0e-4a27-ae6d-69f3a8d0fbb5",
   "metadata": {},
   "source": [
    "4. Write a Python program to reverse a string.\n",
    "Sample String : \"1234abcd\"\n",
    "Expected Output : \"dcba4321\""
   ]
  },
  {
   "cell_type": "code",
   "execution_count": 17,
   "id": "962cb788-8335-4492-a145-63813d745ab6",
   "metadata": {},
   "outputs": [
    {
     "name": "stdout",
     "output_type": "stream",
     "text": [
      "The reversed string is: dcba4321\n"
     ]
    }
   ],
   "source": [
    "def reverse_string(s):\n",
    "    return s[::-1]\n",
    "sample_string = \"1234abcd\"\n",
    "result = reverse_string(sample_string)\n",
    "print(\"The reversed string is:\", result)"
   ]
  },
  {
   "cell_type": "raw",
   "id": "a79ffec1-4fe1-4c38-92a7-7b403551ca18",
   "metadata": {},
   "source": [
    "5. Write a Python function to calculate the factorial of a number (a non-negative\n",
    "integer). The function accepts the number as an argument. "
   ]
  },
  {
   "cell_type": "code",
   "execution_count": 21,
   "id": "20b6e9f9-86a0-4845-ba60-46e02a05d785",
   "metadata": {},
   "outputs": [
    {
     "name": "stdout",
     "output_type": "stream",
     "text": [
      "The factorial of 5 is: 120\n"
     ]
    }
   ],
   "source": [
    "def factorial(n):\n",
    "    if n == 0 or n == 1:\n",
    "        return 1\n",
    "    else:\n",
    "        return n * factorial(n - 1)\n",
    "number = 5\n",
    "result = factorial(number)\n",
    "print(f\"The factorial of {number} is: {result}\")"
   ]
  },
  {
   "cell_type": "raw",
   "id": "e74b8db6-654b-4d2d-a98d-9ae29197cce6",
   "metadata": {},
   "source": [
    "6. Write a Python function to check whether a number falls within a given range."
   ]
  },
  {
   "cell_type": "code",
   "execution_count": 27,
   "id": "7b821952-8338-41c2-886f-a7179c47f2e2",
   "metadata": {},
   "outputs": [
    {
     "name": "stdout",
     "output_type": "stream",
     "text": [
      "10 is within the range 5 to 15.\n"
     ]
    }
   ],
   "source": [
    "def is_within_range(num, start, end):\n",
    "    return start <= num <= end\n",
    "number = 10\n",
    "range_start = 5\n",
    "range_end = 15\n",
    "result = is_within_range(number, range_start, range_end)\n",
    "if result:\n",
    " print(f\"{number} is within the range {range_start} to {range_end}.\")\n",
    "else:\n",
    " print(f\"{number} is outside the range {range_start} to {range_end}.\")"
   ]
  },
  {
   "cell_type": "raw",
   "id": "459b08b1-c1d4-4f21-aef4-431f43895fd5",
   "metadata": {},
   "source": [
    "7. Write a Python function that accepts a string and counts the number of upper\n",
    "and lower case letters.\n",
    "Sample String : 'The quick Brow Fox'\n",
    "Expected Output :\n",
    "No. of Upper case characters : 3\n",
    "No. of Lower case Characters : 12 "
   ]
  },
  {
   "cell_type": "code",
   "execution_count": 29,
   "id": "3eb32fac-f8d9-4d56-96e6-80525c175c5f",
   "metadata": {},
   "outputs": [
    {
     "name": "stdout",
     "output_type": "stream",
     "text": [
      "No. of Upper case characters: 3\n",
      "No. of Lower case characters: 12\n"
     ]
    }
   ],
   "source": [
    "def count_case(s):\n",
    "    upper_count = 0\n",
    "    lower_count = 0\n",
    "    for char in s:\n",
    "        if char.isupper():\n",
    "            upper_count += 1\n",
    "        elif char.islower():\n",
    "            lower_count += 1\n",
    "    return upper_count, lower_count\n",
    "sample_string = 'The quick Brow Fox'\n",
    "upper, lower = count_case(sample_string)\n",
    "print(f\"No. of Upper case characters: {upper}\")\n",
    "print(f\"No. of Lower case characters: {lower}\")"
   ]
  },
  {
   "cell_type": "raw",
   "id": "75e5b258-d57e-4830-b386-2f1b7ae1d822",
   "metadata": {},
   "source": [
    "8. Write a Python function that takes a list and returns a new list with distinct\n",
    "elements from the first list.\n",
    "Sample List : [1,2,3,3,3,3,4,5]\n",
    "Unique List : [1, 2, 3, 4, 5] "
   ]
  },
  {
   "cell_type": "code",
   "execution_count": 31,
   "id": "ebbcc862-63a0-4cf8-8724-174d9def14c7",
   "metadata": {},
   "outputs": [
    {
     "name": "stdout",
     "output_type": "stream",
     "text": [
      "Unique List: [1, 2, 3, 4, 5]\n"
     ]
    }
   ],
   "source": [
    "def get_unique_elements(input_list):\n",
    "    return list(set(input_list))\n",
    "sample_list = [1, 2, 3, 3, 3, 3, 4, 5]\n",
    "unique_list = get_unique_elements(sample_list)\n",
    "print(\"Unique List:\", unique_list)"
   ]
  },
  {
   "cell_type": "raw",
   "id": "b6d6e9a0-2324-4d19-ba72-d487f005bad9",
   "metadata": {},
   "source": [
    "9. Write a Python function that takes a number as a parameter and checks\n",
    "whether the number is prime or not.\n",
    "Note : A prime number (or a prime) is a natural number greater than 1 and that\n",
    "has no positive divisors other than 1 and itself. "
   ]
  },
  {
   "cell_type": "code",
   "execution_count": 33,
   "id": "336fde47-b15d-410d-bcdd-919a10309f77",
   "metadata": {},
   "outputs": [
    {
     "name": "stdout",
     "output_type": "stream",
     "text": [
      "29 is a prime number.\n"
     ]
    }
   ],
   "source": [
    "def is_prime(n):\n",
    "    if n <= 1:\n",
    "        return False\n",
    "    for i in range(2, int(n**0.5) + 1):\n",
    "        if n % i == 0:\n",
    "            return False\n",
    "    return True\n",
    "number = 29\n",
    "if is_prime(number):\n",
    " print(f\"{number} is a prime number.\")\n",
    "else:\n",
    " print(f\"{number} is not a prime number.\")"
   ]
  },
  {
   "cell_type": "raw",
   "id": "d322d08f-e5e0-4e7e-acc9-816611e21cf2",
   "metadata": {},
   "source": [
    "10. Write a Python program to print the even numbers from a given list.\n",
    "Sample List : [1, 2, 3, 4, 5, 6, 7, 8, 9]\n",
    "Expected Result : [2, 4, 6, 8] "
   ]
  },
  {
   "cell_type": "code",
   "execution_count": 39,
   "id": "c30626d8-1e89-4c7a-a686-24af7e3f1195",
   "metadata": {},
   "outputs": [
    {
     "name": "stdout",
     "output_type": "stream",
     "text": [
      "Even numbers: [2, 4, 6, 8]\n"
     ]
    }
   ],
   "source": [
    "sample_list = [1, 2, 3, 4, 5, 6, 7, 8, 9]\n",
    "even_numbers = [num for num in sample_list if num % 2 == 0]\n",
    "print(\"Even numbers:\", even_numbers)"
   ]
  },
  {
   "cell_type": "raw",
   "id": "79148f5f-cd4b-44f3-b3fe-4fe621c31558",
   "metadata": {},
   "source": [
    "11. Write a Python function to check whether a number is \"Perfect\" or not.\n",
    "According to Wikipedia : In number theory, a perfect number is a positive integer\n",
    "that is equal to the sum of its proper positive divisors, that is, the sum of its\n",
    "positive divisors excluding the number itself (also known as its aliquot sum).\n",
    "Equivalently, a perfect number is a number that is half the sum of all of its\n",
    "positive divisors (including itself)."
   ]
  },
  {
   "cell_type": "code",
   "execution_count": 43,
   "id": "fc76bc68-f678-44aa-a7ce-7d6ed7079624",
   "metadata": {},
   "outputs": [
    {
     "name": "stdin",
     "output_type": "stream",
     "text": [
      "Enter a number to check if it's perfect:  5\n"
     ]
    },
    {
     "name": "stdout",
     "output_type": "stream",
     "text": [
      "5 is NOT a Perfect number.\n"
     ]
    }
   ],
   "source": [
    "def is_perfect_number(num):\n",
    "    if num <= 0:\n",
    "        return False\n",
    "    proper_divisors_sum = sum(i for i in range(1, num // 2 + 1) if num% i == 0)\n",
    "    return proper_divisors_sum == num\n",
    "number = int(input(\"Enter a number to check if it's perfect: \"))\n",
    "if is_perfect_number(number):\n",
    " print(f\"{number} is a Perfect number!\")\n",
    "else:\n",
    " print(f\"{number} is NOT a Perfect number.\")"
   ]
  },
  {
   "cell_type": "raw",
   "id": "3cca52ba-2c52-4704-839f-1caf9fce9564",
   "metadata": {},
   "source": [
    "12. Write a Python function that checks whether a passed string is a palindrome\n",
    "or not.\n",
    "Note: A palindrome is a word, phrase, or sequence that reads the same backward\n",
    "as forward, e.g., madam or nurses run"
   ]
  },
  {
   "cell_type": "code",
   "execution_count": 45,
   "id": "97b5ca49-f111-49db-bfae-b7750ecc30e9",
   "metadata": {},
   "outputs": [
    {
     "name": "stdin",
     "output_type": "stream",
     "text": [
      "Enter a string to check if it's a palindrome:  madam\n"
     ]
    },
    {
     "name": "stdout",
     "output_type": "stream",
     "text": [
      "\"madam\" is a Palindrome!\n"
     ]
    }
   ],
   "source": [
    "def is_palindrome(string):\n",
    "    cleaned_string = ''.join(char.lower() for char in string if char.isalnum())\n",
    "    return cleaned_string == cleaned_string[::-1]\n",
    "input_string = (input(\"Enter a string to check if it's a palindrome: \"))\n",
    "if is_palindrome(input_string):\n",
    " print(f'\"{input_string}\" is a Palindrome!')\n",
    "else:\n",
    " print(f'\"{input_string}\" is NOT a Palindrome.')"
   ]
  },
  {
   "cell_type": "code",
   "execution_count": null,
   "id": "e1787460-fb1f-4037-b8ea-85a7b9448249",
   "metadata": {},
   "outputs": [],
   "source": []
  }
 ],
 "metadata": {
  "kernelspec": {
   "display_name": "Python 3 (ipykernel)",
   "language": "python",
   "name": "python3"
  },
  "language_info": {
   "codemirror_mode": {
    "name": "ipython",
    "version": 3
   },
   "file_extension": ".py",
   "mimetype": "text/x-python",
   "name": "python",
   "nbconvert_exporter": "python",
   "pygments_lexer": "ipython3",
   "version": "3.12.7"
  }
 },
 "nbformat": 4,
 "nbformat_minor": 5
}
