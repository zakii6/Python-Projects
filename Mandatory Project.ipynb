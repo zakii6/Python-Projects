{
 "cells": [
  {
   "cell_type": "markdown",
   "id": "7201230a-0120-4eab-9530-a8c9b3aa569a",
   "metadata": {},
   "source": [
    "# Name: Zakariya Khan\n",
    "\n",
    "# Course: Artificial intelligence And Data science\n",
    "\n",
    "# Roll no: 334550\n",
    "\n",
    "# Days: Tuesday & Thursday\n"
   ]
  },
  {
   "cell_type": "markdown",
   "id": "e9c7180a-c269-4ac6-85cc-9d9768d54877",
   "metadata": {},
   "source": [
    "# Mandatory Project"
   ]
  },
  {
   "cell_type": "markdown",
   "id": "2617c617-66d2-4a57-972e-6955c89979b9",
   "metadata": {},
   "source": [
    "## Banking System Assignment (Functional Programming) "
   ]
  },
  {
   "cell_type": "markdown",
   "id": "4619ce9c-e8cb-41cf-b830-8fcd087c2c71",
   "metadata": {},
   "source": [
    "### Objective"
   ]
  },
  {
   "cell_type": "raw",
   "id": "758acb8e-43ea-4d16-96e2-4e2f66fba556",
   "metadata": {},
   "source": [
    "In this assignment, you will develop a simple banking system using functional programming concepts in Python. You will\n",
    "implement several features of a banking system, such as creating an account, depositing money,\n",
    "withdrawing money, checking the balance, and printing a transaction statement. The system will\n",
    "be implemented using functions and basic data structures like lists and dictionaries. Learning\n",
    "Outcomes By completing this assignment, you will:"
   ]
  },
  {
   "cell_type": "markdown",
   "id": "0f9522f9-f743-4146-88ad-0daebf605349",
   "metadata": {},
   "source": [
    "### Learning Outcomes "
   ]
  },
  {
   "cell_type": "raw",
   "id": "a198ca45-6766-4c35-8095-6e72f76ebd90",
   "metadata": {},
   "source": [
    "By completing this assignment, you will: \n",
    "  1.\tUnderstand how to implement a basic banking system using functions. \n",
    "  2.\tPractice using dictionaries and lists to store and manage data. \n",
    "  3.\tLearn how to break a complex problem into smaller, manageable functions. \n",
    "  4.\tWork with Python’s built-in functions and error handling mechanisms. \n",
    "  5.\tReading and writing the data into text files "
   ]
  },
  {
   "cell_type": "markdown",
   "id": "d227850e-c6ff-4a5c-8c4c-aaca55be4a2c",
   "metadata": {},
   "source": [
    "### Assignment Details "
   ]
  },
  {
   "cell_type": "raw",
   "id": "01a53f53-78b9-45e8-a3de-4bc1e98899ce",
   "metadata": {},
   "source": [
    "You will build a banking system that performs the following tasks: \n",
    "   1.\tCreate an account for a user with a name and initial balance. \n",
    "   2.\tDeposit money into the user’s account. \n",
    "   3.\tWithdraw money from the user’s account. \n",
    "   4.\tCheck balance to view the current amount in the account. "
   ]
  },
  {
   "cell_type": "raw",
   "id": "5722dff6-c685-4442-930c-a888fbe48077",
   "metadata": {},
   "source": [
    "5.\tPrint a transaction statement showing all deposits and withdrawals. \n",
    "You will use a dictionary to store account details, including the balance and a list to track transactions. \n",
    "Each action (deposit, withdrawal) will be represented as a separate function. "
   ]
  },
  {
   "cell_type": "markdown",
   "id": "35d306f0-b5f8-4382-be2f-ee219cd39885",
   "metadata": {},
   "source": [
    "### Step-by-Step Breakdown \n"
   ]
  },
  {
   "cell_type": "raw",
   "id": "a570cacd-faad-4efb-9feb-061d9401f679",
   "metadata": {},
   "source": [
    "Step 1: Create an Account \n",
    "When a user opens an account, we will store their details in a dictionary. The dictionary will contain: \n",
    "   •\tThe account holder’s name. \n",
    "   •\tThe balance (default is 0). \n",
    "   •\tA list of transactions (which starts as empty). \n",
    "  Data structure: \n",
    "                     account = { \n",
    "                       \"name\": \"John Doe\", \n",
    "                       \"balance\": 0.0, \n",
    "                       \"transactions\": [] \n",
    "                        } "
   ]
  },
  {
   "cell_type": "raw",
   "id": "b2914a61-e74a-4c2c-9a58-e89bb79df0ca",
   "metadata": {},
   "source": [
    "Step 2: Deposit Money \n",
    "The deposit function will add money to the user’s account balance. Each deposit will be recorded as a transaction (deposit) in the transaction document via file read write to store transactions permanently. \n",
    "  Function requirements: \n",
    "     •\tThe deposit amount must be positive. \n",
    "     •\tAdd the deposit amount to the current balance. \n",
    "     •\tRecord the deposit in the transaction in file  "
   ]
  },
  {
   "cell_type": "raw",
   "id": "a0b4af70-63af-4e95-982d-b5756c5ac9a8",
   "metadata": {},
   "source": [
    "Step 3: Withdraw Money \n",
    "The withdraw function allows the user to withdraw money from the account. \n",
    "Function requirements: \n",
    "    •\tThe withdrawal amount must be positive. \n",
    "    •\tThe user must have enough balance to withdraw the money. \n",
    "    •\tIf the withdrawal is successful, subtract the withdrawal amount from the balance and record the transaction. \n",
    "    •\tIf the balance is insufficient, print an error message. "
   ]
  },
  {
   "cell_type": "raw",
   "id": "4b79572e-ae3f-4deb-b241-cf4f5ee2e5f5",
   "metadata": {},
   "source": [
    "Step 4: Check Balance \n",
    "The check_balance function simply returns the current balance from the dictionary. "
   ]
  },
  {
   "cell_type": "raw",
   "id": "39af5418-2bae-449f-b3c3-045358452674",
   "metadata": {},
   "source": [
    "Step 5: Print Statement \n",
    "The print_statement function will display all transactions made on the account (deposits and withdrawals) and the balance after each transaction. "
   ]
  },
  {
   "cell_type": "markdown",
   "id": "b18dfdcf-3f84-487a-adbf-3034e042b800",
   "metadata": {},
   "source": [
    "### Functional Breakdown "
   ]
  },
  {
   "cell_type": "raw",
   "id": "488b5b5d-175f-4e87-bd36-820a60b3b470",
   "metadata": {},
   "source": [
    "Let's break down the key functions you need to implement: \n",
    "      1.\tCreate Account o \tThis will initialize the account with a name, balance, and an empty transaction list. \n",
    "      2.\tDeposit Function o \tTakes the current account and the amount to deposit as inputs. \n",
    "                             o\tUpdates the balance and records the deposit in the transaction list. \n",
    "      3.\tWithdraw Function o \tTakes the current account and the amount to withdraw. \n",
    "                              o\tChecks if the balance is sufficient and updates the balance if the withdrawal is successful. \n",
    "                              o\tRecords the withdrawal in the transaction list or prints an error message if the withdrawal is not possible. \n",
    "      4.\tCheck Balance o \tSimply returns the balance from the account. \n",
    "      5.\tPrint Statement o \tPrints all transactions, showing the type of transaction (Deposit or Withdrawal) and the balance after each transaction. "
   ]
  },
  {
   "cell_type": "markdown",
   "id": "d6f1676a-d7ea-40d5-a5ef-0cb93abadbd4",
   "metadata": {},
   "source": [
    "### Functional Programming Approach "
   ]
  },
  {
   "cell_type": "raw",
   "id": "f3ca46da-19b8-4e80-b8ca-51ecb23b4231",
   "metadata": {},
   "source": [
    "Instead of using classes and objects, we will rely on functions and data structures like dictionaries and lists. \n",
    "Each function will take the current account data as input, modify it if necessary, and return the updated account data. \n",
    "Example: \n",
    "\n",
    "Let's imagine an account for a user named John Doe. \n",
    "\n",
    "       1.\tCreate Account \n",
    "               We initialize the account with a name and a starting balance of 0. \n",
    "       2.\tDeposit Money \n",
    "               John deposits $500 into his account. \n",
    "       3.\tWithdraw Money \n",
    "               John withdraws $200 from his account. \n",
    "       4.\tCheck Balance \n",
    "                John checks his balance. \n",
    "       5.\tPrint Statement \n",
    "                The statement shows all deposits and withdrawals made. "
   ]
  },
  {
   "cell_type": "markdown",
   "id": "e5e4683f-7ff8-4ed3-9134-51c7165e05aa",
   "metadata": {},
   "source": [
    "### Example Workflow "
   ]
  },
  {
   "cell_type": "raw",
   "id": "99f60f63-49a4-4968-bcfc-a7fb65af9955",
   "metadata": {},
   "source": [
    "  1.\tCreate an Account: \n",
    "          You initialize an account for John Doe with a balance of $0. \n",
    "          Account for John Doe created with balance $0.0.\n",
    "\n",
    "  2.\tDeposit $500: \n",
    "          John deposits $500 into his account. The balance is now $500. \n",
    "          John deposited $500. New balance: $500.0. \n",
    "\n",
    "  3.\tWithdraw $200: \n",
    "          John withdraws $200. The balance is now $300. \n",
    "          John withdrew $200. New balance: $300.0.\n",
    "\n",
    "  4.\tCheck Balance: \n",
    "          John checks his balance and sees $300.0. \n",
    " \n",
    "  5.\tPrint Statement: \n",
    "             The statement shows: \n",
    "                  Account statement for John Doe: \n",
    "                        -\tDeposit: $500. New Balance: $500.0 \n",
    "                        -\tWithdrawal: $200. New Balance: $300.0 "
   ]
  },
  {
   "cell_type": "code",
   "execution_count": 3,
   "id": "e3d1f166-1dfd-4404-87c4-d511922ab88f",
   "metadata": {},
   "outputs": [
    {
     "name": "stdout",
     "output_type": "stream",
     "text": [
      "Welcome to the Banking System!\n",
      "Zakariya Khan deposited $80000.00. New balance: $80000.00\n",
      "Zakariya Khan withdrew $55000.00. New balance: $25000.00\n",
      "Current balance for Zakariya Khan: $25000.00\n",
      "Account statement for Zakariya Khan:\n",
      "- Deposit: $80000.00. New Balance: $80000.00\n",
      "- Withdrawal: $55000.00. New Balance: $25000.00\n"
     ]
    }
   ],
   "source": [
    "# Function to create an account\n",
    "def create_account(name, initial_balance=0.0):\n",
    "    account = {\n",
    "        \"name\": name,\n",
    "        \"balance\": initial_balance,\n",
    "        \"transactions\": []\n",
    "    }\n",
    "    return account\n",
    "\n",
    "# Function to deposit money\n",
    "def deposit(account, amount):\n",
    "    if amount <= 0:\n",
    "        print(\"Error: Deposit amount must be positive.\")\n",
    "        return account\n",
    "    account[\"balance\"] += amount\n",
    "    transaction = f\"Deposit: ${amount:.2f}. New Balance: ${account['balance']:.2f}\"\n",
    "    account[\"transactions\"].append(transaction)\n",
    "    save_transaction(account[\"name\"], transaction)\n",
    "    print(f\"{account['name']} deposited ${amount:.2f}. New balance: ${account['balance']:.2f}\")\n",
    "    return account\n",
    "\n",
    "# Function to withdraw money\n",
    "def withdraw(account, amount):\n",
    "    if amount <= 0:\n",
    "        print(\"Error: Withdrawal amount must be positive.\")\n",
    "        return account    \n",
    "    if amount > account[\"balance\"]:\n",
    "        print(\"Error: Insufficient balance.\")\n",
    "        return account\n",
    "    account[\"balance\"] -= amount\n",
    "    transaction = f\"Withdrawal: ${amount:.2f}. New Balance: ${account['balance']:.2f}\"\n",
    "    account[\"transactions\"].append(transaction)\n",
    "    save_transaction(account[\"name\"], transaction)\n",
    "    print(f\"{account['name']} withdrew ${amount:.2f}. New balance: ${account['balance']:.2f}\")\n",
    "    return account\n",
    "\n",
    "# Function to check balance\n",
    "def check_balance(account):\n",
    "    print(f\"Current balance for {account['name']}: ${account['balance']:.2f}\")\n",
    "    return account[\"balance\"]\n",
    "\n",
    "# Function to print the transaction statement\n",
    "def print_statement(account):\n",
    "    print(f\"Account statement for {account['name']}:\")\n",
    "    if not account[\"transactions\"]:\n",
    "        print(\"No transactions available.\")\n",
    "    else:\n",
    "        for transaction in account[\"transactions\"]:\n",
    "            print(f\"- {transaction}\")\n",
    "\n",
    "# Function to save transactions to a file\n",
    "def save_transaction(name, transaction):\n",
    "    filename = f\"{name}_transactions.txt\"\n",
    "    with open(filename, \"a\") as file:\n",
    "        file.write(transaction + \"\\n\")\n",
    "\n",
    "# Main Program\n",
    "if __name__ == \"__main__\":\n",
    "    print(\"Welcome to the Banking System!\")\n",
    "    user_account = create_account(\"Zakariya Khan\")\n",
    "    deposit(user_account, 80000)\n",
    "    withdraw(user_account, 55000)\n",
    "    check_balance(user_account)\n",
    "    print_statement(user_account)"
   ]
  },
  {
   "cell_type": "code",
   "execution_count": null,
   "id": "056cc949-a507-470a-b834-f7449887a043",
   "metadata": {},
   "outputs": [],
   "source": []
  }
 ],
 "metadata": {
  "kernelspec": {
   "display_name": "Python 3 (ipykernel)",
   "language": "python",
   "name": "python3"
  },
  "language_info": {
   "codemirror_mode": {
    "name": "ipython",
    "version": 3
   },
   "file_extension": ".py",
   "mimetype": "text/x-python",
   "name": "python",
   "nbconvert_exporter": "python",
   "pygments_lexer": "ipython3",
   "version": "3.12.7"
  }
 },
 "nbformat": 4,
 "nbformat_minor": 5
}
