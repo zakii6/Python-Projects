{
 "cells": [
  {
   "cell_type": "markdown",
   "id": "681d25ed-031d-404f-91ff-5cf241a85d2a",
   "metadata": {},
   "source": [
    "# Python If Else Practice Questions"
   ]
  },
  {
   "cell_type": "markdown",
   "id": "14637ee7-bf37-466b-b97a-8ea9fd5bc54a",
   "metadata": {},
   "source": [
    "#### A-\tDiscounts and Pricing"
   ]
  },
  {
   "cell_type": "raw",
   "id": "7155dc5f-6d6f-4031-969e-b312040d3c36",
   "metadata": {},
   "source": [
    "1.\tCheck Discount Eligibility\n",
    "Write a program to check if a customer is eligible for a discount. If the total purchase is more than $100, apply a 10% discount and display the final price. Otherwise, display the total price as it is.\n",
    "\n"
   ]
  },
  {
   "cell_type": "code",
   "execution_count": 3,
   "id": "d17e9910-9bee-4c40-bb17-2453f1f56fcc",
   "metadata": {},
   "outputs": [
    {
     "name": "stdin",
     "output_type": "stream",
     "text": [
      "Enter item1 price: 10000\n",
      "Enter item2 price: 50000\n",
      "Enter item3 price: 2000\n",
      "Enter item4 price: 1000\n",
      "Enter item5 price: 3000\n"
     ]
    }
   ],
   "source": [
    "item1 = float(input(\"Enter item1 price:\"))\n",
    "item2 = float(input(\"Enter item2 price:\"))\n",
    "item3 = float(input(\"Enter item3 price:\"))\n",
    "item4 = float(input(\"Enter item4 price:\"))\n",
    "item5 = float(input(\"Enter item5 price:\"))\n",
    "total_purchase = item1+item2+item3+item4+item5\n"
   ]
  },
  {
   "cell_type": "code",
   "execution_count": 5,
   "id": "5c9925a6-f2ba-48dd-a653-cccf7593e3ba",
   "metadata": {},
   "outputs": [],
   "source": [
    "dollar=100*280"
   ]
  },
  {
   "cell_type": "code",
   "execution_count": 7,
   "id": "140cc03d-53f9-452d-9459-6f16203bdaea",
   "metadata": {},
   "outputs": [
    {
     "name": "stdout",
     "output_type": "stream",
     "text": [
      "Total_purchase_bill: 66000.0\n",
      "Discount applied: 10%\n",
      "Payable_bill: 59400.0\n"
     ]
    }
   ],
   "source": [
    "if total_purchase >= dollar:\n",
    "    pay = total_purchase*0.10\n",
    "    print(f\"Total_purchase_bill: {total_purchase}\")\n",
    "    print(\"Discount applied: 10%\")\n",
    "    print(f\"Payable_bill: {total_purchase-pay}\")\n",
    "else:\n",
    "    print(f\"Payable_bill: {total_purchase}\")\n"
   ]
  },
  {
   "cell_type": "raw",
   "id": "b08b90d6-ff4e-4bb4-b47b-9a7c5931a03d",
   "metadata": {},
   "source": [
    "2.\tCalculate Bulk Discount\n",
    "If a customer buys more than 5 items, apply a 15% discount on the total price. Otherwise, no discount is applied. Display the total price.\n",
    "\n"
   ]
  },
  {
   "cell_type": "code",
   "execution_count": 11,
   "id": "7b36c4ea-e162-4deb-9914-38911c64c76f",
   "metadata": {},
   "outputs": [
    {
     "name": "stdin",
     "output_type": "stream",
     "text": [
      "Enter the number of items:  3\n",
      "Enter total price of items:  15000\n"
     ]
    },
    {
     "name": "stdout",
     "output_type": "stream",
     "text": [
      "Payable_bill:15000.0\n"
     ]
    }
   ],
   "source": [
    "number_of_items = int(input(\"Enter the number of items: \"))\n",
    "total_price = float(input(\"Enter total price of items: \"))\n",
    "if number_of_items > 5:\n",
    "        discount = total_price*0.15 \n",
    "        print(f\"Total_purchase_bill: {total_price}\")\n",
    "        print(\"Discount applied: 15%\")\n",
    "        print(f\"payable_bill: {total_price-discount}\")\n",
    "else:\n",
    "    print(f\"Payable_bill:{total_price}\")"
   ]
  },
  {
   "cell_type": "raw",
   "id": "7557627b-a90b-4d60-95f7-a93b912d33c0",
   "metadata": {},
   "source": [
    "3.\tMembership Discount\n",
    "Check if the customer is a member (is_member = True). Members get a 20% discount; non-members get a 5% discount. Calculate and print the discounted price.\n",
    "\n"
   ]
  },
  {
   "cell_type": "code",
   "execution_count": 17,
   "id": "9b6df78e-e0e2-4ee1-beb3-a6c9c48350e3",
   "metadata": {},
   "outputs": [
    {
     "name": "stdout",
     "output_type": "stream",
     "text": [
      "Total_price: 1000\n",
      "Discount applied: 5%\n",
      "Payable_price: 800.0\n"
     ]
    }
   ],
   "source": [
    "price=1000\n",
    "is_member=True\n",
    "if is_member:\n",
    "    discount=price*0.20\n",
    "    print(f\"Total_price: {price}\")\n",
    "    print(\"Discount applied: 5%\")\n",
    "    print(f\"Payable_price: {price-discount}\")\n",
    "else:\n",
    "    discount=price*0.50\n",
    "    print(f\"Total_price: {price}\")\n",
    "    print(\"Discount applid: 5%\")\n",
    "    print(f\"Payable_price: {price-discount}\")"
   ]
  },
  {
   "cell_type": "raw",
   "id": "442ac075-816e-4945-819a-e906a9429b8a",
   "metadata": {},
   "source": [
    "4.\tSeasonal Sale\n",
    "If today is a holiday (is_holiday = True), apply a 25% discount; otherwise, apply a 10% discount. Calculate the price after discount\n",
    "\n"
   ]
  },
  {
   "cell_type": "code",
   "execution_count": 19,
   "id": "2e9d8cdd-cbd0-4c2c-a9b7-04cb93dec134",
   "metadata": {},
   "outputs": [
    {
     "name": "stdout",
     "output_type": "stream",
     "text": [
      "Total_price: 2000\n",
      "Discount applied: 25%\n",
      "Payable_price: 1500.0\n"
     ]
    }
   ],
   "source": [
    "price=2000\n",
    "is_holiday=True\n",
    "if is_holiday:\n",
    "    discount=price*0.25\n",
    "    print(f\"Total_price: {price}\")\n",
    "    print(\"Discount applied: 25%\")\n",
    "    print(f\"Payable_price: {price-discount}\")\n",
    "else:\n",
    "    discount=price*0.10\n",
    "    print(f\"Total_price: {price}\")\n",
    "    print(\"Discount applid: 10%\")\n",
    "    print(f\"Payable_price: {price-discount}\")"
   ]
  },
  {
   "cell_type": "raw",
   "id": "6523049d-9e41-40d9-8ce1-a75cbc02a409",
   "metadata": {},
   "source": [
    "5.\tBuy-One-Get-One-Free\n",
    "If a customer buys an even number of items, they get half of them for free. Otherwise, they pay for all. Calculate the number of items the customer has to pay for.\n"
   ]
  },
  {
   "cell_type": "code",
   "execution_count": 21,
   "id": "be0eb0ad-91e8-4df5-ac44-ebc14105341e",
   "metadata": {},
   "outputs": [
    {
     "name": "stdin",
     "output_type": "stream",
     "text": [
      "Enter payment:  5000\n",
      "Enter number of items:  10\n"
     ]
    },
    {
     "name": "stdout",
     "output_type": "stream",
     "text": [
      "Total_Bill: 5000.0\n",
      "Discount applied: 50%\n",
      "Payable_Bill: 2500.0\n"
     ]
    }
   ],
   "source": [
    "pay=float(input(\"Enter payment: \"))\n",
    "items=int(input(\"Enter number of items: \"))\n",
    "if items%2 == 0:\n",
    "    discount=pay*0.50\n",
    "    print(f\"Total_Bill: {pay}\")\n",
    "    print(\"Discount applied: 50%\")\n",
    "    print(f\"Payable_Bill: {pay-discount}\")\n",
    "else:\n",
    "    print(f\"Total_Bill: {pay}\")"
   ]
  },
  {
   "cell_type": "markdown",
   "id": "104bd787-9b26-49f5-b756-c81d6e6cfde1",
   "metadata": {},
   "source": [
    "### B-\tTax Calculations"
   ]
  },
  {
   "cell_type": "raw",
   "id": "55eb8930-961b-4a81-a8fe-2145d256d9a9",
   "metadata": {},
   "source": [
    "6.\tSales Tax\n",
    "If the price of an item is greater than $500, apply a luxury tax of 15%. Otherwise, apply a standard tax of 8%. Display the total price after tax\n",
    "\n",
    "\n"
   ]
  },
  {
   "cell_type": "code",
   "execution_count": 26,
   "id": "bc3d3544-e7fe-43a2-a4c8-bad279560192",
   "metadata": {},
   "outputs": [
    {
     "name": "stdin",
     "output_type": "stream",
     "text": [
      "Enter price:  1000000\n"
     ]
    },
    {
     "name": "stdout",
     "output_type": "stream",
     "text": [
      "Total_Price: 1000000.0\n",
      "luxury Tax applied: 15%\n",
      "After tax payable_price: 850000.0\n"
     ]
    }
   ],
   "source": [
    "dollar=500*280\n",
    "price=float(input(\"Enter price: \"))\n",
    "if price > dollar:\n",
    "    tax = price*0.15\n",
    "    print(f\"Total_Price: {price}\")\n",
    "    print(\"luxury Tax applied: 15%\")\n",
    "    print(f\"After tax payable_price: {price-tax}\")\n",
    "else:\n",
    "    tax = price*0.08\n",
    "    print(f\"Total_Price: {price}\")\n",
    "    print(\"tax applied: 8%\")\n",
    "    print(f\"After tax payable_price: {price-tax}\")\n"
   ]
  },
  {
   "cell_type": "raw",
   "id": "9eb7e554-02a4-45ef-9655-66c633611a8b",
   "metadata": {},
   "source": [
    "7.\tIncome Tax\n",
    "If a person's annual income is above $50,000, they pay 20% tax. Otherwise, they pay 10%. Calculate and display the tax amount.\n",
    "\n",
    "\n",
    "\n"
   ]
  },
  {
   "cell_type": "code",
   "execution_count": 30,
   "id": "7948d188-3e38-4913-94d9-b561fb23ce34",
   "metadata": {},
   "outputs": [
    {
     "name": "stdin",
     "output_type": "stream",
     "text": [
      "Enter annual income:  10000000\n"
     ]
    },
    {
     "name": "stdout",
     "output_type": "stream",
     "text": [
      "Annual_Income: 10000000.0\n",
      "tax applied: 10%\n",
      "After pay tax: 9000000.0\n"
     ]
    }
   ],
   "source": [
    "dollar=50000*280\n",
    "income=float(input(\"Enter annual income: \"))\n",
    "if income > dollar:\n",
    "    tax = income*0.20\n",
    "    print(f\"Annual_Income: {income}\")\n",
    "    print(\"Tax applied: 20%\")\n",
    "    print(f\"After pay tax : {income-tax}\")\n",
    "else:\n",
    "    tax = income*0.10\n",
    "    print(f\"Annual_Income: {income}\")\n",
    "    print(\"tax applied: 10%\")\n",
    "    print(f\"After pay tax: {income-tax}\")\n"
   ]
  },
  {
   "cell_type": "raw",
   "id": "6127ff61-8513-4c2d-a792-94447de8df55",
   "metadata": {},
   "source": [
    "8. Tax Bracket\n",
    "Write a program to categorize a person into tax brackets:  -Income < 30, 000:\" LowTax \"  − 30,000 ≤ Income <\n",
    "100, 000:\" MediumTax \"  − Income ≥ 100,000: \"High Tax\""
   ]
  },
  {
   "cell_type": "code",
   "execution_count": 2,
   "id": "3993da74-c762-4b0b-8349-346811a52bb8",
   "metadata": {},
   "outputs": [
    {
     "name": "stdin",
     "output_type": "stream",
     "text": [
      "Please Enter Your Income in dollars:  100000\n"
     ]
    },
    {
     "name": "stdout",
     "output_type": "stream",
     "text": [
      "High Tax\n"
     ]
    }
   ],
   "source": [
    "income=int(input(\"Please Enter Your Income in dollars: \"))\n",
    "if income<30000:\n",
    "    print(\"Low Tax\")\n",
    "elif income>=30000 and income<100000:\n",
    "    print(\"Medium Tax\")\n",
    "else:\n",
    "    print(\"High Tax\")"
   ]
  },
  {
   "cell_type": "raw",
   "id": "5e52413a-2586-4089-bbd8-77c7ab1ff903",
   "metadata": {},
   "source": [
    "9. VAT Calculation\n",
    "If the item is marked as essential (is_essential = True), apply a VAT of 5%. Otherwise, apply a VAT of 12%. Display the final price."
   ]
  },
  {
   "cell_type": "code",
   "execution_count": 4,
   "id": "c48655c1-5ea6-4256-8bdb-0caef366fe01",
   "metadata": {},
   "outputs": [
    {
     "name": "stdin",
     "output_type": "stream",
     "text": [
      "Enter the price of item:  500\n",
      "Id this Item Essential (Y/N) : y\n"
     ]
    },
    {
     "name": "stdout",
     "output_type": "stream",
     "text": [
      "The Total price you have to pay is 525.0\n"
     ]
    }
   ],
   "source": [
    "price=int(input(\"Enter the price of item: \"))\n",
    "item=input(\"Id this Item Essential (Y/N) :\").lower()\n",
    "if item=='y':\n",
    "    vat=price*.05\n",
    "else:\n",
    "    vat=price*.12\n",
    "print(f\"The Total price you have to pay is {price+vat}\")"
   ]
  },
  {
   "cell_type": "raw",
   "id": "63893bea-fe49-4059-9745-f1acda9b9397",
   "metadata": {},
   "source": [
    "10. Tax-Free Day\n",
    "If today is a tax-free day (tax_free = True), display the original price. Otherwise, add a 7% tax."
   ]
  },
  {
   "cell_type": "code",
   "execution_count": 8,
   "id": "e12f8fc9-a889-4e6e-bb66-ded390d7d4a0",
   "metadata": {},
   "outputs": [
    {
     "name": "stdin",
     "output_type": "stream",
     "text": [
      "Enter the Price:  6000\n",
      "Is today tax free day (Y/N) N\n"
     ]
    },
    {
     "name": "stdout",
     "output_type": "stream",
     "text": [
      "You have to pay 6420.0\n"
     ]
    }
   ],
   "source": [
    "price=int(input(\"Enter the Price: \"))\n",
    "tax_free_day=input(\"Is today tax free day (Y/N)\").lower()\n",
    "if tax_free_day=='y':\n",
    "    print(f\"As Today is Tax Free Day So the Price You Have To Pay is {price}\")\n",
    "else:\n",
    "    print(f\"You have to pay {price+price*.07}\")"
   ]
  },
  {
   "cell_type": "raw",
   "id": "fa398dcc-405f-40f6-9bf0-ebef55dd08d7",
   "metadata": {},
   "source": [
    "11. Free Shipping\n",
    "If the total purchase amount is more than 50, of erfreeshipping; otherwise, charge5 for shipping. Display the total amount including shipping."
   ]
  },
  {
   "cell_type": "code",
   "execution_count": 10,
   "id": "3ca11a5e-5509-4358-8bca-ff5e7d83b2bd",
   "metadata": {},
   "outputs": [
    {
     "name": "stdin",
     "output_type": "stream",
     "text": [
      "Please Enter the Total Purchase Amount in dollars:  40\n"
     ]
    },
    {
     "name": "stdout",
     "output_type": "stream",
     "text": [
      "Your Total Amount Including Shipping is: 45\n"
     ]
    }
   ],
   "source": [
    "total_purchase=int(input(\"Please Enter the Total Purchase Amount in dollars: \"))\n",
    "if total_purchase>50:\n",
    "    print(f\"Your Total Amount Including Shipping is: {total_purchase}\")\n",
    "else:\n",
    "    print(f\"Your Total Amount Including Shipping is: {total_purchase+5}\")"
   ]
  },
  {
   "cell_type": "raw",
   "id": "6a1b7e84-2d90-4d3d-8a88-c891c1a52793",
   "metadata": {},
   "source": [
    "12. Discount Code\n",
    "If a customer enters the correct discount code (DISCOUNT10), apply a 10% discount. Otherwise, charge the full amount."
   ]
  },
  {
   "cell_type": "code",
   "execution_count": 12,
   "id": "e8e02b14-3451-4b09-8f55-409ca9d17e14",
   "metadata": {},
   "outputs": [
    {
     "name": "stdin",
     "output_type": "stream",
     "text": [
      "Please Enter the Amount:  600\n",
      "Enter the Discount Code:  discount\n"
     ]
    },
    {
     "name": "stdout",
     "output_type": "stream",
     "text": [
      "You have to pay 600\n"
     ]
    }
   ],
   "source": [
    "amount=int(input(\"Please Enter the Amount: \"))\n",
    "disc_code=input(\"Enter the Discount Code: \").upper()\n",
    "if disc_code=='DISCOUNT10':\n",
    "    print(f\"You have to pay {amount*.95}\")\n",
    "else:\n",
    "    print(f\"You have to pay {amount}\")"
   ]
  },
  {
   "cell_type": "raw",
   "id": "da39f2d4-0939-49f1-b725-4f5da4ba1dd1",
   "metadata": {},
   "source": [
    "13. Tiered Discounts\n",
    "Apply discounts based on the total price:  0–50: No discount.  50–100: 10% discount.  Over $100: 20% discount."
   ]
  },
  {
   "cell_type": "code",
   "execution_count": 14,
   "id": "d180f0ed-868f-49ed-ac59-46cef9cb2b84",
   "metadata": {},
   "outputs": [
    {
     "name": "stdin",
     "output_type": "stream",
     "text": [
      "Please Enter the Amount:  22\n"
     ]
    },
    {
     "name": "stdout",
     "output_type": "stream",
     "text": [
      "You have to pay 22\n"
     ]
    }
   ],
   "source": [
    "amount=int(input(\"Please Enter the Amount: \"))\n",
    "if amount>0 and amount<50:\n",
    "    disc=0\n",
    "elif amount>=50 and amount<100:\n",
    "    disc=amount*.10\n",
    "else:\n",
    "    disc=amount*.20\n",
    "print(f\"You have to pay {amount-disc}\")"
   ]
  },
  {
   "cell_type": "raw",
   "id": "17a24925-422a-4c53-93b8-9a72da8e5a66",
   "metadata": {},
   "source": [
    "14. Minimum Purchase Requirement\n",
    "If the total amount is less than 20, display a message: \"Minimum purchase of 20 is required.\" Otherwise, display the total amount."
   ]
  },
  {
   "cell_type": "code",
   "execution_count": 16,
   "id": "b6026eaf-ff20-4c86-9c71-2d006ca88388",
   "metadata": {},
   "outputs": [
    {
     "name": "stdin",
     "output_type": "stream",
     "text": [
      "Please Enter the Amonut:  12\n"
     ]
    },
    {
     "name": "stdout",
     "output_type": "stream",
     "text": [
      "Minimun Purchase of $20 is Required. \n"
     ]
    }
   ],
   "source": [
    "total_amount=int(input(\"Please Enter the Amonut: \"))\n",
    "if total_amount<20:\n",
    "    print(\"Minimun Purchase of $20 is Required. \")\n",
    "else:\n",
    "    print(f\"The Total Amount is {total_amount}\")"
   ]
  },
  {
   "cell_type": "raw",
   "id": "d6d2cf77-675f-4e78-a505-634d00dfa444",
   "metadata": {},
   "source": [
    "15. Loyalty Points\n",
    "If a customer is a loyal member (is_loyal = True), they earn double loyalty points for their purchase. Otherwise, they earn standard points."
   ]
  },
  {
   "cell_type": "code",
   "execution_count": 18,
   "id": "e74fe8af-8efe-4ae2-b43b-ecfc9e781dad",
   "metadata": {},
   "outputs": [
    {
     "name": "stdin",
     "output_type": "stream",
     "text": [
      "Enter the purchase amount: $ 3000\n",
      "Is the customer a loyal member? (Y/N):  n\n"
     ]
    },
    {
     "name": "stdout",
     "output_type": "stream",
     "text": [
      "Loyalty points earned: 3000\n"
     ]
    }
   ],
   "source": [
    "standar_point_rate=1\n",
    "purchase_amount = int(input(\"Enter the purchase amount: $\"))\n",
    "is_loyal = input(\"Is the customer a loyal member? (Y/N): \").lower()\n",
    "if is_loyal==\"y\":\n",
    "    loyalty_points = purchase_amount * standar_point_rate*2\n",
    "else:\n",
    "    loyalty_points = purchase_amount * standar_point_rate\n",
    "print(f\"Loyalty points earned: {loyalty_points}\")"
   ]
  },
  {
   "cell_type": "raw",
   "id": "0f73d382-6c02-49bc-84ec-6518d6b3214a",
   "metadata": {},
   "source": [
    "16. Travel Discount\n",
    "If a person is traveling more than 500 miles, offer a 20% discount on ticket price. Otherwise, charge the full amount."
   ]
  },
  {
   "cell_type": "code",
   "execution_count": 20,
   "id": "89443b6d-c5fc-4712-bbf1-6a2884ec1d1d",
   "metadata": {},
   "outputs": [
    {
     "ename": "SyntaxError",
     "evalue": "unterminated f-string literal (detected at line 4) (1598962354.py, line 4)",
     "output_type": "error",
     "traceback": [
      "\u001b[1;36m  Cell \u001b[1;32mIn[20], line 4\u001b[1;36m\u001b[0m\n\u001b[1;33m    print(f\"Your)\u001b[0m\n\u001b[1;37m          ^\u001b[0m\n\u001b[1;31mSyntaxError\u001b[0m\u001b[1;31m:\u001b[0m unterminated f-string literal (detected at line 4)\n"
     ]
    }
   ],
   "source": [
    "travel_distance=int(input(\"Enter the distance of travelling: \"))\n",
    "ticket_amount=int(input(\"Enter the Ticket Amount: \"))\n",
    "if travel_distance>500:\n",
    "    print(f\"Your)"
   ]
  },
  {
   "cell_type": "raw",
   "id": "ef5f2258-8ffa-456c-9597-96a61f93a9a7",
   "metadata": {},
   "source": [
    "17. Child or Senior Discount\n",
    "If a passenger is under 12 or over 60 years old, apply a 15% discount on the ticket price. Otherwise, charge the full price."
   ]
  },
  {
   "cell_type": "code",
   "execution_count": 22,
   "id": "af7f05a4-fe81-4191-a827-0d7e70aab8ea",
   "metadata": {},
   "outputs": [
    {
     "name": "stdin",
     "output_type": "stream",
     "text": [
      "Enter Your Age:  68\n"
     ]
    },
    {
     "name": "stdout",
     "output_type": "stream",
     "text": [
      "You have to pay 6800.0\n"
     ]
    }
   ],
   "source": [
    "ticket_price=8000\n",
    "age=int(input(\"Enter Your Age: \"))\n",
    "if age<12 or age>60:\n",
    "    print(f\"You have to pay {ticket_price*.85}\")\n",
    "else:\n",
    "    print(f\"You have to pay {ticket_price}\")"
   ]
  },
  {
   "cell_type": "raw",
   "id": "90615799-222c-4df2-a017-2c6172fa1f7e",
   "metadata": {},
   "source": [
    "18. Ticket Type Pricing\n",
    "If the ticket is for a weekend (is_weekend = True), add a 10% surcharge. Otherwise, charge the standard price."
   ]
  },
  {
   "cell_type": "code",
   "execution_count": 24,
   "id": "23de092c-5fac-4c21-9c71-45e96362c6c3",
   "metadata": {},
   "outputs": [
    {
     "name": "stdin",
     "output_type": "stream",
     "text": [
      "Is Your Ticket For Weekend:  Y\n"
     ]
    },
    {
     "name": "stdout",
     "output_type": "stream",
     "text": [
      "Your Ticket Price is 11000.0\n"
     ]
    }
   ],
   "source": [
    "ticket_price=10000\n",
    "ticket_detail=input(\"Is Your Ticket For Weekend: \").lower()\n",
    "if ticket_detail=='y':\n",
    "    surcharge=ticket_price*.10\n",
    "else:\n",
    "    surcharge=0\n",
    "print(f\"Your Ticket Price is {surcharge+ticket_price}\")"
   ]
  },
  {
   "cell_type": "raw",
   "id": "d44815c0-e7ee-45bd-90ca-d93cfbed4fa9",
   "metadata": {},
   "source": [
    "19. Baggage Fee\n",
    "If the total baggage weight is over 20kg, charge $10 per extra kilogram. Otherwise, no extra fee."
   ]
  },
  {
   "cell_type": "code",
   "execution_count": 26,
   "id": "9844ba26-c934-41d3-9036-57ffd22261d0",
   "metadata": {},
   "outputs": [
    {
     "name": "stdin",
     "output_type": "stream",
     "text": [
      "Enter The Baggage Weight in kg:  28\n"
     ]
    },
    {
     "name": "stdout",
     "output_type": "stream",
     "text": [
      "You have to pay 80\n"
     ]
    }
   ],
   "source": [
    "baggage_weight=int(input(\"Enter The Baggage Weight in kg: \"))\n",
    "if baggage_weight>20:\n",
    "    baggage_weight=baggage_weight-20\n",
    "    print(f\"You have to pay {baggage_weight*10}\")\n",
    "else:\n",
    "    baggage_weight=baggage_weight\n",
    "    print(f\"You have to pay Nothing\")"
   ]
  },
  {
   "cell_type": "raw",
   "id": "2ca013aa-af01-414c-b954-6a02e68277f9",
   "metadata": {},
   "source": [
    "20. Early Bird Discount\n",
    "\n",
    "If a ticket is booked more than 30 days in advance, apply a 10% discount. Otherwise, charge the full price."
   ]
  },
  {
   "cell_type": "code",
   "execution_count": 28,
   "id": "e51b8968-0a27-402f-a77e-463aa3935614",
   "metadata": {},
   "outputs": [
    {
     "name": "stdin",
     "output_type": "stream",
     "text": [
      "Is Your Ticket Booked 30 days in Advance(Y/N):  Y\n"
     ]
    },
    {
     "name": "stdout",
     "output_type": "stream",
     "text": [
      "You have to pay 8100.0\n"
     ]
    }
   ],
   "source": [
    "ticket_price=9000\n",
    "ticket_detail=input(\"Is Your Ticket Booked 30 days in Advance(Y/N): \").lower()\n",
    "if ticket_detail=='y':\n",
    "    print(f\"You have to pay {ticket_price*.90}\")\n",
    "else:\n",
    "    print(f\"You have to pay {ticket_price}\")"
   ]
  },
  {
   "cell_type": "raw",
   "id": "e56ea02b-9eef-4c64-94be-3714f33cfb99",
   "metadata": {},
   "source": [
    "21. Pass or Fail\n",
    "If a student scores 40 or more, print \"Pass\". Otherwise, print \"Fail\"."
   ]
  },
  {
   "cell_type": "code",
   "execution_count": 30,
   "id": "dfb064f4-d80a-45a0-8b76-fc0554dfea22",
   "metadata": {},
   "outputs": [
    {
     "name": "stdin",
     "output_type": "stream",
     "text": [
      "Enter Marks:  35\n"
     ]
    },
    {
     "name": "stdout",
     "output_type": "stream",
     "text": [
      "Fail\n"
     ]
    }
   ],
   "source": [
    "marks=int(input(\"Enter Marks: \"))\n",
    "if marks>=40:\n",
    "    print(\"Pass\")\n",
    "else:\n",
    "    print(\"Fail\")"
   ]
  },
  {
   "cell_type": "raw",
   "id": "834a2aeb-9772-432b-b209-af22dce5cf36",
   "metadata": {},
   "source": [
    "22. Grade Assignment\n",
    "Based on a student's score, assign grades:  90 and above: \"A\"  75–89: \"B\"  50–74: \"C\"  Below 50: \"F\""
   ]
  },
  {
   "cell_type": "code",
   "execution_count": 32,
   "id": "a15d54f8-43fc-4f00-9ab4-dc458c450c0b",
   "metadata": {},
   "outputs": [
    {
     "name": "stdin",
     "output_type": "stream",
     "text": [
      "Please Enter Your scores:  72\n"
     ]
    },
    {
     "name": "stdout",
     "output_type": "stream",
     "text": [
      "Your Grade is C\n"
     ]
    }
   ],
   "source": [
    "std_score=int(input(\"Please Enter Your scores: \"))\n",
    "if std_score>=90:\n",
    "    grade=\"A\"\n",
    "elif std_score<=89 and std_score>=75:\n",
    "    grade=\"B\"\n",
    "elif std_score<=74 and std_score>=50:\n",
    "    grade=\"C\"\n",
    "else:\n",
    "    grade=\"F\"\n",
    "print(f\"Your Grade is {grade}\")"
   ]
  },
  {
   "cell_type": "raw",
   "id": "c0f2b373-7792-4a9e-9f28-ac48506031bb",
   "metadata": {},
   "source": [
    "23. Bonus Marks\n",
    "If a student completes all assignments, add 5 bonus marks to their score. Otherwise, no bonus marks."
   ]
  },
  {
   "cell_type": "code",
   "execution_count": 36,
   "id": "31cb5b6b-da90-4f34-ab39-6043fd121e44",
   "metadata": {},
   "outputs": [
    {
     "name": "stdin",
     "output_type": "stream",
     "text": [
      "Are your All Assignments Completed (Y/N) : Y\n"
     ]
    },
    {
     "name": "stdout",
     "output_type": "stream",
     "text": [
      "Your Scores Including Bonus Scores Are 75\n"
     ]
    }
   ],
   "source": [
    "scores=70\n",
    "assignment_detail=input(\"Are your All Assignments Completed (Y/N) :\").lower()\n",
    "if assignment_detail=='y':\n",
    "    print(f\"Your Scores Including Bonus Scores Are {scores+5}\")\n",
    "else:\n",
    "    print(f\"Your Scores without Bonus Scores Are {scores}\")"
   ]
  },
  {
   "cell_type": "raw",
   "id": "3638de23-4722-453b-b6a1-063a7a829cc9",
   "metadata": {},
   "source": [
    "24. Attendance Eligibility\n",
    "If a student's attendance is 75% or more, they are eligible to take the exam. Otherwise, they are not."
   ]
  },
  {
   "cell_type": "code",
   "execution_count": 42,
   "id": "da404129-a10d-46d8-b02a-b954550ffecf",
   "metadata": {},
   "outputs": [
    {
     "name": "stdin",
     "output_type": "stream",
     "text": [
      "Enter Your Percentage of Attendance:  92\n"
     ]
    },
    {
     "name": "stdout",
     "output_type": "stream",
     "text": [
      "You are Eligible for Exams.\n"
     ]
    }
   ],
   "source": [
    "attendance=int(input(\"Enter Your Percentage of Attendance: \"))\n",
    "if attendance>100:\n",
    "    print(\"Please Enter Attendance Percentage between 0 - 100.\")\n",
    "else:\n",
    "    if attendance>=75:\n",
    "        print(\"You are Eligible for Exams.\")\n",
    "    else:\n",
    "        print(\"You are not Eligible for Exams.\")"
   ]
  },
  {
   "cell_type": "raw",
   "id": "830cac62-d9d8-44c9-a943-eb1921650be4",
   "metadata": {},
   "source": [
    "25. Scholarship Eligibility\n",
    "If a student's grade is \"A\" and their annual family income is below $30,000, they are eligible for a scholarship. Otherwise, they are not."
   ]
  },
  {
   "cell_type": "code",
   "execution_count": 44,
   "id": "b395a5fc-fa90-4def-92ff-4044c4176427",
   "metadata": {},
   "outputs": [
    {
     "name": "stdin",
     "output_type": "stream",
     "text": [
      "Enter Your Grade:  a\n",
      "Enter Your Annual Family Income:  25000\n"
     ]
    },
    {
     "name": "stdout",
     "output_type": "stream",
     "text": [
      "You are Eligible for a scholarship.\n"
     ]
    }
   ],
   "source": [
    "grade=input(\"Enter Your Grade: \").lower()\n",
    "if grade=='a':\n",
    "    annual_family_income=int(input(\"Enter Your Annual Family Income: \"))\n",
    "    if annual_family_income<30000:\n",
    "        print(\"You are Eligible for a scholarship.\")\n",
    "    else:\n",
    "        print(\"Sorry You are Not eligible for scholarship due to income greater than 30000.\")\n",
    "else:\n",
    "    print(\"Sorry you are not eligible for scholarship because You don't have grade A\")"
   ]
  },
  {
   "cell_type": "code",
   "execution_count": null,
   "id": "37ab0dc1-21ad-4cfb-a527-f7b44bdac7b1",
   "metadata": {},
   "outputs": [],
   "source": []
  }
 ],
 "metadata": {
  "kernelspec": {
   "display_name": "Python 3 (ipykernel)",
   "language": "python",
   "name": "python3"
  },
  "language_info": {
   "codemirror_mode": {
    "name": "ipython",
    "version": 3
   },
   "file_extension": ".py",
   "mimetype": "text/x-python",
   "name": "python",
   "nbconvert_exporter": "python",
   "pygments_lexer": "ipython3",
   "version": "3.12.7"
  }
 },
 "nbformat": 4,
 "nbformat_minor": 5
}
