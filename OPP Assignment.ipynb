{
 "cells": [
  {
   "cell_type": "raw",
   "id": "bac203a4-9d04-47ee-b549-69b1353f0cf1",
   "metadata": {},
   "source": [
    "1. Write a Python program to create a class called \"Person\" with properties for \n",
    "name, age and country. Include a method to display the person's details. Create \n",
    "two instances of the 'Person' class and display their details."
   ]
  },
  {
   "cell_type": "code",
   "execution_count": 5,
   "id": "b70ccb18-bf0e-4286-9cc1-d585197ee0b3",
   "metadata": {},
   "outputs": [
    {
     "name": "stdout",
     "output_type": "stream",
     "text": [
      "Person 1 Details:\n",
      "Name: Jalal\n",
      "Age: 25\n",
      "Country: pakistan\n",
      "\n",
      "Person 2 Details:\n",
      "Name: Adeel\n",
      "Age: 32\n",
      "Country: Canada\n"
     ]
    }
   ],
   "source": [
    "class Person:\n",
    "    def __init__(self, name, age, country):\n",
    "        self.name = name\n",
    "        self.age = age\n",
    "        self.country = country\n",
    "\n",
    "    def display_details(self):\n",
    "        print(f\"Name: {self.name}\")\n",
    "        print(f\"Age: {self.age}\")\n",
    "        print(f\"Country: {self.country}\")\n",
    "\n",
    "person1 = Person(\"Jalal\", 25, \"pakistan\")\n",
    "person2 = Person(\"Adeel\", 32, \"Canada\")\n",
    "\n",
    "print(\"Person 1 Details:\")\n",
    "person1.display_details()\n",
    "\n",
    "print(\"\\nPerson 2 Details:\")\n",
    "person2.display_details()"
   ]
  },
  {
   "cell_type": "raw",
   "id": "e06765ba-aa55-446c-bf08-dd33e14b4093",
   "metadata": {},
   "source": [
    "2. Write a Python program to create a class called 'Rectangle' with properties for \n",
    "width and height. Include two methods to calculate rectangle area and perimeter. \n",
    "Create an instance of the 'Rectangle' class and calculate its area and perimeter."
   ]
  },
  {
   "cell_type": "code",
   "execution_count": 7,
   "id": "c093d49a-4154-4dde-a009-0808d1650a18",
   "metadata": {},
   "outputs": [
    {
     "name": "stdout",
     "output_type": "stream",
     "text": [
      "Area of the rectangle: 15\n",
      "Perimeter of the rectangle: 16\n"
     ]
    }
   ],
   "source": [
    "class Rectangle:\n",
    "    def __init__(self, width, height):\n",
    "        self.width = width\n",
    "        self.height = height\n",
    "\n",
    "    def area(self):\n",
    "        return self.width * self.height\n",
    "\n",
    "    def perimeter(self):\n",
    "        return 2 * (self.width + self.height)\n",
    "\n",
    "rectangle = Rectangle(5, 3)\n",
    "\n",
    "print(\"Area of the rectangle:\", rectangle.area())\n",
    "print(\"Perimeter of the rectangle:\", rectangle.perimeter())"
   ]
  },
  {
   "cell_type": "raw",
   "id": "c2aef9c4-89ef-4153-b3d5-4f1601654c5b",
   "metadata": {},
   "source": [
    "3. Write a Python program that creates a class called 'Vehicle' with properties for \n",
    "make, model, and year. Include a method to display vehicle details. Create a \n",
    "subclass called 'Car' that inherits from the 'Vehicle' class and includes an \n",
    "additional property for the number of doors. Override the display method to \n",
    "include the number of doors."
   ]
  },
  {
   "cell_type": "code",
   "execution_count": 9,
   "id": "43073996-d016-40aa-83f0-1d524d10f330",
   "metadata": {},
   "outputs": [
    {
     "name": "stdout",
     "output_type": "stream",
     "text": [
      "Make: Toyota\n",
      "Model: Camry\n",
      "Year: 2020\n",
      "Number of doors: 4\n"
     ]
    }
   ],
   "source": [
    "class Vehicle:\n",
    "    def __init__(self, make, model, year):\n",
    "        self.make = make\n",
    "        self.model = model\n",
    "        self.year = year\n",
    "\n",
    "    def display_details(self):\n",
    "        print(f\"Make: {self.make}\")\n",
    "        print(f\"Model: {self.model}\")\n",
    "        print(f\"Year: {self.year}\")\n",
    "\n",
    "class Car(Vehicle):\n",
    "    def __init__(self, make, model, year, number_of_doors):\n",
    "        super().__init__(make, model, year)  \n",
    "        self.number_of_doors = number_of_doors\n",
    "\n",
    "    def display_details(self):\n",
    "        super().display_details()  \n",
    "        print(f\"Number of doors: {self.number_of_doors}\")\n",
    "\n",
    "car = Car(\"Toyota\", \"Camry\", 2020, 4)\n",
    "car.display_details()"
   ]
  },
  {
   "cell_type": "raw",
   "id": "3fc66ef2-b668-4b43-a6a2-1dada1de6bc2",
   "metadata": {},
   "source": [
    "4. Write a Python program that creates a class called \"BankAccount\" with \n",
    "properties for account number and balance. Include methods to deposit and \n",
    "withdraw money from the account. Create some instances of the \"BankAccount\" \n",
    "class, deposit some money, and withdraw a portion of it."
   ]
  },
  {
   "cell_type": "code",
   "execution_count": 13,
   "id": "0ec34ae8-6b06-48f0-9499-0a7639d54844",
   "metadata": {},
   "outputs": [
    {
     "name": "stdout",
     "output_type": "stream",
     "text": [
      "Deposited $20000. New balance is $70000.\n",
      "Withdrew $10000. New balance is $60000.\n",
      "Deposited $30000. New balance is $30000.\n",
      "Withdrew $5000. New balance is $25000.\n",
      "Account 1234500 balance: $60000\n",
      "Account 9876511 balance: $25000\n"
     ]
    }
   ],
   "source": [
    "class BankAccount:\n",
    "    def __init__(self, account_number, balance=0):\n",
    "        self.account_number = account_number\n",
    "        self.balance = balance\n",
    "\n",
    "    def deposit(self, amount):\n",
    "        if amount > 0:\n",
    "            self.balance += amount\n",
    "            print(f\"Deposited ${amount}. New balance is ${self.balance}.\")\n",
    "        else:\n",
    "            print(\"Deposit amount must be positive.\")\n",
    "\n",
    "    def withdraw(self, amount):\n",
    "        if amount > 0:\n",
    "            if amount <= self.balance:\n",
    "                self.balance -= amount\n",
    "                print(f\"Withdrew ${amount}. New balance is ${self.balance}.\")\n",
    "            else:\n",
    "                print(\"Insufficient funds for this withdrawal.\")\n",
    "        else:\n",
    "            print(\"Withdrawal amount must be positive.\")\n",
    "\n",
    "    def display_balance(self):\n",
    "        print(f\"Account {self.account_number} balance: ${self.balance}\")\n",
    "\n",
    "account1 = BankAccount(\"1234500\", 50000)\n",
    "account2 = BankAccount(\"9876511\")\n",
    "\n",
    "account1.deposit(20000)\n",
    "account1.withdraw(10000)\n",
    "account2.deposit(30000)\n",
    "account2.withdraw(5000)\n",
    "account1.display_balance()\n",
    "account2.display_balance()"
   ]
  },
  {
   "cell_type": "raw",
   "id": "5ef479c3-0ef0-4e6e-bb7f-5f0d8d565de8",
   "metadata": {},
   "source": [
    "5. Write a Python program that creates a class called 'Shape' with a method to \n",
    "calculate the area. Create two subclasses, 'Circle' and 'Triangle', that inherit from \n",
    "the 'Shape' class and override the area calculation method. Create an instance of \n",
    "the 'Circle' class and calculate its area. Similarly, do the same for the 'Triangle' \n",
    "class."
   ]
  },
  {
   "cell_type": "code",
   "execution_count": 15,
   "id": "b2ca4c5b-66d1-4080-98a3-5c859504ad74",
   "metadata": {},
   "outputs": [
    {
     "name": "stdout",
     "output_type": "stream",
     "text": [
      "Area of the circle: 78.54\n",
      "Area of the triangle: 12.00\n"
     ]
    }
   ],
   "source": [
    "import math\n",
    "class Shape:\n",
    "    def area(self):\n",
    "        pass \n",
    "        \n",
    "class Circle(Shape):\n",
    "    def __init__(self, radius):\n",
    "        self.radius = radius\n",
    "\n",
    "    def area(self):\n",
    "        return math.pi * (self.radius ** 2)\n",
    "\n",
    "class Triangle(Shape):\n",
    "    def __init__(self, base, height):\n",
    "        self.base = base\n",
    "        self.height = height\n",
    "\n",
    "    def area(self):\n",
    "        return 0.5 * self.base * self.height\n",
    "\n",
    "circle = Circle(5)\n",
    "triangle = Triangle(4, 6)\n",
    "\n",
    "print(f\"Area of the circle: {circle.area():.2f}\")\n",
    "print(f\"Area of the triangle: {triangle.area():.2f}\")"
   ]
  },
  {
   "cell_type": "raw",
   "id": "f9b26bee-e012-4e61-9418-67f75346a682",
   "metadata": {},
   "source": [
    "6. Write a Python program that creates a class called 'Employee' with properties \n",
    "for name and salary. Include a method to calculate annual salary. Create a \n",
    "subclass called 'Manager' that inherits from the 'Employee' class and adds an \n",
    "additional property for department. Override the annual salary calculation method \n",
    "to include bonuses for managers. Create two instances of the 'Manager' class \n",
    "and calculate their annual salary."
   ]
  },
  {
   "cell_type": "code",
   "execution_count": 21,
   "id": "c21be2fc-9903-4560-a5bf-b930986e78fe",
   "metadata": {},
   "outputs": [
    {
     "name": "stdout",
     "output_type": "stream",
     "text": [
      "Zakariya (Manager in HR) Annual Salary: $660,000.00\n",
      "Majid (Manager in Finance) Annual Salary: $792,000.00\n"
     ]
    }
   ],
   "source": [
    "class Employee:\n",
    "    def __init__(self, name, salary):\n",
    "        self.name = name\n",
    "        self.salary = salary\n",
    "\n",
    "    def annual_salary(self):\n",
    "        return self.salary * 12\n",
    "\n",
    "class Manager(Employee):\n",
    "    def __init__(self, name, salary, department):\n",
    "        super().__init__(name, salary)  \n",
    "        self.department = department\n",
    "\n",
    "    def annual_salary(self):\n",
    "        base_annual_salary = super().annual_salary()  \n",
    "        bonus = 0.1 * base_annual_salary  \n",
    "        return base_annual_salary + bonus\n",
    "\n",
    "manager1 = Manager(\"Zakariya\", 50000, \"HR\")\n",
    "manager2 = Manager(\"Majid\", 60000, \"Finance\")\n",
    "\n",
    "print(f\"{manager1.name} (Manager in {manager1.department}) Annual Salary: ${manager1.annual_salary():,.2f}\")\n",
    "print(f\"{manager2.name} (Manager in {manager2.department}) Annual Salary: ${manager2.annual_salary():,.2f}\")"
   ]
  },
  {
   "cell_type": "raw",
   "id": "ba203c5f-69ce-468f-a4f3-b5c1a3f31fe3",
   "metadata": {},
   "source": [
    "7. Write a Python program that creates a class `Book` with properties for title, \n",
    "author, and publication year. Include a method to display book details. Create a \n",
    "subclass called 'Ebook' that inherits from the 'Book' class and includes an \n",
    "additional property for book price. Override the display method to include the \n",
    "book price. Create an instance of the 'Ebook' class and display its details. "
   ]
  },
  {
   "cell_type": "code",
   "execution_count": 23,
   "id": "67b61169-60c6-4b1d-a1b7-38176aec89d9",
   "metadata": {},
   "outputs": [
    {
     "name": "stdout",
     "output_type": "stream",
     "text": [
      "Title: A Smarter Way to Learn Python\n",
      "Author: Mark Myers\n",
      "Publication Year: 2017\n",
      "Price: $300.00\n"
     ]
    }
   ],
   "source": [
    "class Book:\n",
    "    def __init__(self, title, author, publication_year):\n",
    "        self.title = title\n",
    "        self.author = author\n",
    "        self.publication_year = publication_year\n",
    "\n",
    "    def display_details(self):\n",
    "        print(f\"Title: {self.title}\")\n",
    "        print(f\"Author: {self.author}\")\n",
    "        print(f\"Publication Year: {self.publication_year}\")\n",
    "\n",
    "class Ebook(Book):\n",
    "    def __init__(self, title, author, publication_year, price):\n",
    "        super().__init__(title, author, publication_year)  \n",
    "        self.price = price\n",
    "\n",
    "    def display_details(self):\n",
    "        super().display_details()  \n",
    "        print(f\"Price: ${self.price:.2f}\")\n",
    "\n",
    "ebook = Ebook(\"A Smarter Way to Learn Python\", \"Mark Myers\", 2017, 300.00)\n",
    "ebook.display_details()"
   ]
  },
  {
   "cell_type": "raw",
   "id": "dfab16ad-6fd8-46e6-925f-b403b6aef84c",
   "metadata": {},
   "source": [
    "8. Write a Python program that creates a class called 'Animal' with properties for \n",
    "species and sound. Include a method to make the animal's sound. Create a \n",
    "subclass called 'Dog' that inherits from the 'Animal' class and adds an additional \n",
    "property for color. Override the make sound method to include the dog's color. \n",
    "Create an instance of the 'Dog' class and make it make its sound."
   ]
  },
  {
   "cell_type": "code",
   "execution_count": 31,
   "id": "54bb6d51-8e03-420a-99dd-70375af04f78",
   "metadata": {},
   "outputs": [
    {
     "name": "stdout",
     "output_type": "stream",
     "text": [
      "The brown dog bark\n"
     ]
    }
   ],
   "source": [
    "class Animal:\n",
    "    def __init__(self, species, sound):\n",
    "        self.species = species\n",
    "        self.sound = sound\n",
    "\n",
    "    def make_sound(self):\n",
    "        print(f\"The {self.species}  {self.sound}\")\n",
    "\n",
    "class Dog(Animal):\n",
    "    def __init__(self, species, sound, color):\n",
    "        super().__init__(species, sound)  \n",
    "        self.color = color\n",
    "\n",
    "    def make_sound(self):\n",
    "        print(f\"The {self.color} dog {self.sound}\")\n",
    "\n",
    "dog = Dog(\"dog\", \"bark\", \"brown\")\n",
    "dog.make_sound()"
   ]
  },
  {
   "cell_type": "raw",
   "id": "2bc25325-b42b-4d4e-bf0b-6da1d2861f00",
   "metadata": {},
   "source": [
    "9. Write a Python program that creates a class called Bank with properties for \n",
    "bank names and branches. Include methods to add a branch, remove a branch, \n",
    "and display all branches. Create an instance of the Bank class and perform \n",
    "operations to add and remove branches. "
   ]
  },
  {
   "cell_type": "code",
   "execution_count": 33,
   "id": "31a8271b-d1ee-4e9d-844d-612554853fa9",
   "metadata": {},
   "outputs": [
    {
     "name": "stdout",
     "output_type": "stream",
     "text": [
      "Branch 'Korangi Branch' added to Meezan Bank.\n",
      "Branch 'Gulshan Branch' added to Meezan Bank.\n",
      "Branch 'Airport Branch' added to Meezan Bank.\n",
      "Branches of Meezan Bank:\n",
      "- Korangi Branch\n",
      "- Gulshan Branch\n",
      "- Airport Branch\n",
      "Branch 'Gulshan Branch' removed from Meezan Bank.\n",
      "Branches of Meezan Bank:\n",
      "- Korangi Branch\n",
      "- Airport Branch\n"
     ]
    }
   ],
   "source": [
    "class Bank:\n",
    "    def __init__(self, bank_name):\n",
    "        self.bank_name = bank_name\n",
    "        self.branches = []  \n",
    "\n",
    "    def add_branch(self, branch_name):\n",
    "        if branch_name not in self.branches:\n",
    "            self.branches.append(branch_name)\n",
    "            print(f\"Branch '{branch_name}' added to {self.bank_name}.\")\n",
    "        else:\n",
    "            print(f\"Branch '{branch_name}' already exists.\")\n",
    "\n",
    "    def remove_branch(self, branch_name):\n",
    "        if branch_name in self.branches:\n",
    "            self.branches.remove(branch_name)\n",
    "            print(f\"Branch '{branch_name}' removed from {self.bank_name}.\")\n",
    "        else:\n",
    "            print(f\"Branch '{branch_name}' not found in {self.bank_name}.\")\n",
    "\n",
    "    def display_branches(self):\n",
    "        if self.branches:\n",
    "            print(f\"Branches of {self.bank_name}:\")\n",
    "            for branch in self.branches:\n",
    "                print(f\"- {branch}\")\n",
    "        else:\n",
    "            print(f\"{self.bank_name} has no branches.\")\n",
    "\n",
    "bank = Bank(\"Meezan Bank\")\n",
    "bank.add_branch(\"Korangi Branch\")\n",
    "bank.add_branch(\"Gulshan Branch\")\n",
    "bank.add_branch(\"Airport Branch\")\n",
    "\n",
    "bank.display_branches()\n",
    "bank.remove_branch(\"Gulshan Branch\")\n",
    "bank.display_branches()"
   ]
  },
  {
   "cell_type": "raw",
   "id": "06c778f5-6bba-47ff-b218-0a6750655870",
   "metadata": {},
   "source": [
    "10. Write a Python program that creates a class called Product with properties for \n",
    "product ID, name, and price. Include a method to calculate the total price by \n",
    "multiplying the price by the quantity. Create a subclass called \n",
    "PersonalCareProduct that inherits from the Product class and adds an additional \n",
    "property for the warranty period. Override the total price calculation method to \n",
    "include the warranty period. Create an instance of the PersonalCareProduct \n",
    "class and calculate its total price."
   ]
  },
  {
   "cell_type": "code",
   "execution_count": 41,
   "id": "9e001488-c458-4ed9-86c6-89c9fefeaf1f",
   "metadata": {},
   "outputs": [
    {
     "name": "stdout",
     "output_type": "stream",
     "text": [
      "Total price for 3 Laotop(s): $180000.00\n"
     ]
    }
   ],
   "source": [
    "class Product:\n",
    "    def __init__(self, product_id, name, price):\n",
    "        self.product_id = product_id\n",
    "        self.name = name\n",
    "        self.price = price\n",
    "\n",
    "    def total_price(self, quantity):\n",
    "        return self.price * quantity\n",
    "\n",
    "class PersonalCareProduct(Product):\n",
    "    def __init__(self, product_id, name, price, warranty_period):\n",
    "        super().__init__(product_id, name, price)  \n",
    "        self.warranty_period = warranty_period\n",
    "\n",
    "    def total_price(self, quantity):\n",
    "        base_total = super().total_price(quantity) \n",
    "        return base_total \n",
    "\n",
    "personal_care_product = PersonalCareProduct(502822645, \"Laotop\", 60000, 2)\n",
    "quantity = 3\n",
    "total = personal_care_product.total_price(quantity)\n",
    "print(f\"Total price for {quantity} {personal_care_product.name}(s): ${total:.2f}\")"
   ]
  },
  {
   "cell_type": "raw",
   "id": "d2f00e1b-5f1a-4b75-8976-a02ce3d6991e",
   "metadata": {},
   "source": [
    "11. Write a Python program that creates a class called BankAccount with \n",
    "properties for account number, account holder name, and balance. Include \n",
    "methods to deposit, withdraw, and transfer money between accounts. Create \n",
    "multiple instances of the BankAccount class and perform operations such as \n",
    "depositing, withdrawing, and transferring money. "
   ]
  },
  {
   "cell_type": "code",
   "execution_count": 43,
   "id": "b86f92f6-18d0-40ee-8a8f-134829b88a17",
   "metadata": {},
   "outputs": [
    {
     "name": "stdout",
     "output_type": "stream",
     "text": [
      "Deposited $50000. New balance is $150000.\n",
      "Withdrew $20000. New balance is $130000.\n",
      "Deposited $300000. New balance is $350000.\n",
      "Withdrew $100000. New balance is $250000.\n",
      "Transferred $30000 to account 541203666.\n",
      "New balance for Bilal: $100000\n",
      "New balance for Zubair: $280000\n",
      "Account 512656898 (Bilal) balance: $100000\n",
      "Account 541203666 (Zubair) balance: $280000\n"
     ]
    }
   ],
   "source": [
    "class BankAccount:\n",
    "    def __init__(self, account_number, account_holder_name, balance=0):\n",
    "        self.account_number = account_number\n",
    "        self.account_holder_name = account_holder_name\n",
    "        self.balance = balance\n",
    "\n",
    "    def deposit(self, amount):\n",
    "        if amount > 0:\n",
    "            self.balance += amount\n",
    "            print(f\"Deposited ${amount}. New balance is ${self.balance}.\")\n",
    "        else:\n",
    "            print(\"Deposit amount must be positive.\")\n",
    "\n",
    "    def withdraw(self, amount):\n",
    "        if amount > 0:\n",
    "            if amount <= self.balance:\n",
    "                self.balance -= amount\n",
    "                print(f\"Withdrew ${amount}. New balance is ${self.balance}.\")\n",
    "            else:\n",
    "                print(\"Insufficient funds for this withdrawal.\")\n",
    "        else:\n",
    "            print(\"Withdrawal amount must be positive.\")\n",
    "\n",
    "    def transfer(self, target_account, amount):\n",
    "        if amount > 0:\n",
    "            if amount <= self.balance:\n",
    "                self.balance -= amount\n",
    "                target_account.balance += amount\n",
    "                print(f\"Transferred ${amount} to account {target_account.account_number}.\")\n",
    "                print(f\"New balance for {self.account_holder_name}: ${self.balance}\")\n",
    "                print(f\"New balance for {target_account.account_holder_name}: ${target_account.balance}\")\n",
    "            else:\n",
    "                print(\"Insufficient funds for this transfer.\")\n",
    "        else:\n",
    "            print(\"Transfer amount must be positive.\")\n",
    "\n",
    "    def display_balance(self):\n",
    "        print(f\"Account {self.account_number} ({self.account_holder_name}) balance: ${self.balance}\")\n",
    "\n",
    "\n",
    "account1 = BankAccount(\"512656898\", \"Bilal\", 100000)\n",
    "account2 = BankAccount(\"541203666\", \"Zubair\", 50000)\n",
    "\n",
    "account1.deposit(50000)\n",
    "account1.withdraw(20000)\n",
    "account2.deposit(300000)\n",
    "account2.withdraw(100000)\n",
    "account1.transfer(account2, 30000)\n",
    "\n",
    "account1.display_balance()\n",
    "account2.display_balance()"
   ]
  },
  {
   "cell_type": "raw",
   "id": "b33a5418-19bb-442d-935d-c04a91b5b3a5",
   "metadata": {},
   "source": [
    "12. Write a Python program that creates a class called University with properties \n",
    "for university name and departments. Include methods to add a department, \n",
    "remove a department, and display all departments. Create an instance of the \n",
    "University class and add and remove departments."
   ]
  },
  {
   "cell_type": "code",
   "execution_count": 45,
   "id": "1ad27374-9e55-4064-83bf-46922aa58102",
   "metadata": {},
   "outputs": [
    {
     "name": "stdout",
     "output_type": "stream",
     "text": [
      "Department 'Computer Science' added to Suffa University.\n",
      "Department 'Mechanical Engineering' added to Suffa University.\n",
      "Department 'Electrical Engineering' added to Suffa University.\n",
      "Departments in Suffa University:\n",
      "- Computer Science\n",
      "- Mechanical Engineering\n",
      "- Electrical Engineering\n",
      "Department 'Mechanical Engineering' removed from Suffa University.\n",
      "Departments in Suffa University:\n",
      "- Computer Science\n",
      "- Electrical Engineering\n"
     ]
    }
   ],
   "source": [
    "class University:\n",
    "    def __init__(self, university_name):\n",
    "        self.university_name = university_name\n",
    "        self.departments = []  \n",
    "\n",
    "    def add_department(self, department_name):\n",
    "        if department_name not in self.departments:\n",
    "            self.departments.append(department_name)\n",
    "            print(f\"Department '{department_name}' added to {self.university_name}.\")\n",
    "        else:\n",
    "            print(f\"Department '{department_name}' already exists in {self.university_name}.\")\n",
    "\n",
    "    def remove_department(self, department_name):\n",
    "        if department_name in self.departments:\n",
    "            self.departments.remove(department_name)\n",
    "            print(f\"Department '{department_name}' removed from {self.university_name}.\")\n",
    "        else:\n",
    "            print(f\"Department '{department_name}' not found in {self.university_name}.\")\n",
    "\n",
    "    def display_departments(self):\n",
    "        if self.departments:\n",
    "            print(f\"Departments in {self.university_name}:\")\n",
    "            for department in self.departments:\n",
    "                print(f\"- {department}\")\n",
    "        else:\n",
    "            print(f\"{self.university_name} has no departments.\")\n",
    "\n",
    "university = University(\"Suffa University\")\n",
    "\n",
    "university.add_department(\"Computer Science\")\n",
    "university.add_department(\"Mechanical Engineering\")\n",
    "university.add_department(\"Electrical Engineering\")\n",
    "\n",
    "university.display_departments()\n",
    "university.remove_department(\"Mechanical Engineering\")\n",
    "university.display_departments()"
   ]
  },
  {
   "cell_type": "code",
   "execution_count": null,
   "id": "c10d0b42-f4bc-4ce7-8575-b449011dd1bc",
   "metadata": {},
   "outputs": [],
   "source": []
  }
 ],
 "metadata": {
  "kernelspec": {
   "display_name": "Python 3 (ipykernel)",
   "language": "python",
   "name": "python3"
  },
  "language_info": {
   "codemirror_mode": {
    "name": "ipython",
    "version": 3
   },
   "file_extension": ".py",
   "mimetype": "text/x-python",
   "name": "python",
   "nbconvert_exporter": "python",
   "pygments_lexer": "ipython3",
   "version": "3.12.7"
  }
 },
 "nbformat": 4,
 "nbformat_minor": 5
}
