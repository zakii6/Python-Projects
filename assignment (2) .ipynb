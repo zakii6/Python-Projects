{
 "cells": [
  {
   "cell_type": "markdown",
   "id": "11742474-2755-445b-b1cb-4d4252acb3ed",
   "metadata": {},
   "source": [
    "# Area Of Rectangle"
   ]
  },
  {
   "cell_type": "code",
   "execution_count": 13,
   "id": "647e23fb-6f27-43a8-be02-a9cc18dc5c34",
   "metadata": {},
   "outputs": [
    {
     "name": "stdin",
     "output_type": "stream",
     "text": [
      "Enter length  20\n",
      "Enter width  30\n"
     ]
    },
    {
     "name": "stdout",
     "output_type": "stream",
     "text": [
      "Area of rectangle is  600\n"
     ]
    }
   ],
   "source": [
    "# area = length * width\n",
    "length = int(input(\"Enter length \"))\n",
    "width = int(input(\"Enter width \"))\n",
    "area_of_rectangle = length * width\n",
    "print(\"Area of rectangle is \",area_of_rectangle)"
   ]
  },
  {
   "cell_type": "markdown",
   "id": "76074366-4fca-4d64-a9fd-ffec734b4a86",
   "metadata": {},
   "source": [
    "# Circumference Of Circle"
   ]
  },
  {
   "cell_type": "code",
   "execution_count": 23,
   "id": "78ea8deb-b1f2-4a2f-b174-0ce9bb64fa47",
   "metadata": {},
   "outputs": [
    {
     "name": "stdin",
     "output_type": "stream",
     "text": [
      "Enter radius  6\n"
     ]
    },
    {
     "name": "stdout",
     "output_type": "stream",
     "text": [
      "The Circumference Of circle is  37.68\n"
     ]
    }
   ],
   "source": [
    "# circumference = 2 * 3.14 * radius\n",
    "radius = int(input(\"Enter radius \"))\n",
    "circumference_of_circle = 2 * 3.14 * radius\n",
    "print(\"The Circumference Of circle is \",circumference_of_circle)"
   ]
  },
  {
   "cell_type": "markdown",
   "id": "e5ebd32c-2c7d-4969-bada-47ce9c038a9a",
   "metadata": {},
   "source": [
    "# Simple Interest"
   ]
  },
  {
   "cell_type": "code",
   "execution_count": 27,
   "id": "84a39c87-df9f-45d6-b19f-09c96e0c2005",
   "metadata": {},
   "outputs": [
    {
     "name": "stdin",
     "output_type": "stream",
     "text": [
      "Enter principal 1000\n",
      "Enter Rate  10\n",
      "Enter Time Period 3\n"
     ]
    },
    {
     "name": "stdout",
     "output_type": "stream",
     "text": [
      "The Simple Interest is  30000\n"
     ]
    }
   ],
   "source": [
    "# simple interest = principal * rate * time\n",
    "principal = int(input(\"Enter principal\"))\n",
    "rate = int(input(\"Enter Rate \"))\n",
    "time = int(input(\"Enter Time Period\"))\n",
    "simple_interest = principal * rate * time\n",
    "print(\"The Simple Interest is \",simple_interest)"
   ]
  },
  {
   "cell_type": "markdown",
   "id": "be231d7a-8fe5-4b55-8e06-9991d023ce4a",
   "metadata": {},
   "source": [
    "# Speed Of An Object"
   ]
  },
  {
   "cell_type": "code",
   "execution_count": 31,
   "id": "f74621e7-fcb4-492f-bc85-30395f2adc93",
   "metadata": {},
   "outputs": [
    {
     "name": "stdin",
     "output_type": "stream",
     "text": [
      "Enter the distance of an object  60\n",
      "Enter the time period  2\n"
     ]
    },
    {
     "name": "stdout",
     "output_type": "stream",
     "text": [
      "The Speed Of An Object is  30.0\n"
     ]
    }
   ],
   "source": [
    "# speed = distance / time\n",
    "distance = int(input(\"Enter the distance of an object \"))\n",
    "time = int(input(\"Enter the time period \"))\n",
    "speed_of_object = distance / time\n",
    "print(\"The Speed Of An Object is \",speed_of_object)"
   ]
  },
  {
   "cell_type": "markdown",
   "id": "126be569-dfff-477c-8b2d-58f97845e2d7",
   "metadata": {},
   "source": [
    "# Body Mass Index (BMI)"
   ]
  },
  {
   "cell_type": "code",
   "execution_count": 2,
   "id": "83c35a2d-6051-4fbb-b09b-9e9ceeb34b53",
   "metadata": {},
   "outputs": [
    {
     "name": "stdin",
     "output_type": "stream",
     "text": [
      "Enter your weigth in kilograms  44\n",
      "Enter your height in meters  8\n"
     ]
    },
    {
     "name": "stdout",
     "output_type": "stream",
     "text": [
      "The Body Mass Index (BMI) is  0.6875\n"
     ]
    }
   ],
   "source": [
    "# BMI = weigth(kg) / (height**2)\n",
    "weigth = float(input(\"Enter your weigth in kilograms \"))\n",
    "height = float(input(\"Enter your height in meters \"))\n",
    "bmi = weigth / (height**2)\n",
    "print(\"The Body Mass Index (BMI) is \",bmi)"
   ]
  },
  {
   "cell_type": "markdown",
   "id": "c4f05117-5769-42b1-ba3f-f19c8394399b",
   "metadata": {},
   "source": [
    "# Force "
   ]
  },
  {
   "cell_type": "code",
   "execution_count": 1,
   "id": "9f35476c-5060-42b1-ba61-a8b0f866562e",
   "metadata": {},
   "outputs": [
    {
     "name": "stdin",
     "output_type": "stream",
     "text": [
      "Enter of an object in kilogram  30\n",
      "Enter acceleration of an object in meters per second  8\n"
     ]
    },
    {
     "name": "stdout",
     "output_type": "stream",
     "text": [
      "The Force Of An Object Is  240.0\n"
     ]
    }
   ],
   "source": [
    "# force = mass * acceleration\n",
    "mass = float(input(\"Enter of an object in kilogram \"))\n",
    "acceleration = float(input(\"Enter acceleration of an object in meters per second \"))\n",
    "force = mass * acceleration\n",
    "print(\"The Force Of An Object Is \",force)\n"
   ]
  },
  {
   "cell_type": "markdown",
   "id": "cb29c602-a638-45cb-8d6d-c9c00b030adf",
   "metadata": {},
   "source": [
    "# Compound Interest"
   ]
  },
  {
   "cell_type": "code",
   "execution_count": 11,
   "id": "fd4b1274-22e7-4ab8-a14e-47ebbc25120f",
   "metadata": {},
   "outputs": [
    {
     "name": "stdin",
     "output_type": "stream",
     "text": [
      "Enter the principle amount  5000\n",
      "Enter rate of interest in decimal  0.05\n",
      "Enter the number of times interest is compounded per year  12\n",
      "Enter time in year  10\n"
     ]
    },
    {
     "name": "stdout",
     "output_type": "stream",
     "text": [
      "The Compound Interest Is  5245.809489408665\n"
     ]
    }
   ],
   "source": [
    "# a = p*(1 + r/n)**n-t\n",
    "p = float(input(\"Enter the principle amount \"))\n",
    "r = float(input(\"Enter rate of interest in decimal \"))\n",
    "n = float(input(\"Enter the number of times interest is compounded per year \"))\n",
    "t = float(input(\"Enter time in year \"))\n",
    "a = p*(1 + r/n)**n-t\n",
    "print(\"The Compound Interest Is \",a)\n"
   ]
  },
  {
   "cell_type": "markdown",
   "id": "e1cc95ec-07f3-4e7a-9682-d9076085b0ef",
   "metadata": {},
   "source": [
    "# Perimeter Of Triangle"
   ]
  },
  {
   "cell_type": "code",
   "execution_count": 15,
   "id": "d0daf783-249a-45e1-a4f2-0e9ee8c48d72",
   "metadata": {},
   "outputs": [
    {
     "name": "stdin",
     "output_type": "stream",
     "text": [
      "Enter the length of side a of triangle  12\n",
      "Enter the length of side b of triangle  8\n",
      "Enter the length of side c of triangle  16\n"
     ]
    },
    {
     "name": "stdout",
     "output_type": "stream",
     "text": [
      "The Perimeter Of Triangle Is  36\n"
     ]
    }
   ],
   "source": [
    "# perimeter = a + b + c\n",
    "a = int(input(\"Enter the length of side a of triangle \"))\n",
    "b = int(input(\"Enter the length of side b of triangle \"))\n",
    "c = int(input(\"Enter the length of side c of triangle \"))\n",
    "perimeter = a + b + c\n",
    "print(\"The Perimeter Of Triangle Is \",perimeter)"
   ]
  },
  {
   "cell_type": "markdown",
   "id": "38abebf7-bcfa-4ee6-8867-1fb17d08d6fe",
   "metadata": {},
   "source": [
    "# Volume of a Sphere"
   ]
  },
  {
   "cell_type": "code",
   "execution_count": 20,
   "id": "2dc6cc56-294a-4e42-ac22-e734cd49b683",
   "metadata": {},
   "outputs": [
    {
     "name": "stdin",
     "output_type": "stream",
     "text": [
      "Enter the radius of sphere  7\n"
     ]
    },
    {
     "name": "stdout",
     "output_type": "stream",
     "text": [
      "The Volume Of Sphere Is  0.20933333333333334\n"
     ]
    }
   ],
   "source": [
    "# Volume of a Sphere = 4/3 * 3.14 * r\n",
    "radius = int(input(\"Enter the radius of sphere \"))\n",
    "volume_of_sphere = (4/3)*3.14*r\n",
    "print(\"The Volume Of Sphere Is \",volume_of_sphere)"
   ]
  },
  {
   "cell_type": "markdown",
   "id": "8c61d047-4170-4ee5-900d-7150c1aa878a",
   "metadata": {},
   "source": [
    "# Kinetic Energy "
   ]
  },
  {
   "cell_type": "code",
   "execution_count": 4,
   "id": "a1f63e17-bced-4ec0-94f5-12cbc3c27c76",
   "metadata": {},
   "outputs": [
    {
     "name": "stdin",
     "output_type": "stream",
     "text": [
      "Enter the mass of an object in kilogram  5.5\n",
      "Enter the velocity of an object in meter per second  10.5\n"
     ]
    },
    {
     "name": "stdout",
     "output_type": "stream",
     "text": [
      "Kinetic Energy Of An Object Is  -605.875\n"
     ]
    }
   ],
   "source": [
    "# kinetic energy = 0.5-mass*velocity**2\n",
    "mass = float(input(\"Enter the mass of an object in kilogram \"))\n",
    "velocity = float(input(\"Enter the velocity of an object in meter per second \"))\n",
    "kinetic_energy = 0.5 - mass * velocity**2\n",
    "print(\"Kinetic Energy Of An Object Is \",kinetic_energy)"
   ]
  },
  {
   "cell_type": "markdown",
   "id": "4cd186ab-9424-40fd-b0a5-1a5b39c8231f",
   "metadata": {},
   "source": [
    "# Quadratic Equation Roots"
   ]
  },
  {
   "cell_type": "code",
   "execution_count": 3,
   "id": "e74dee07-4f06-43c0-8652-e3e487d7e580",
   "metadata": {},
   "outputs": [
    {
     "name": "stdin",
     "output_type": "stream",
     "text": [
      "Enter value of a 3\n",
      "Enter value of b 4\n",
      "Enter value of c 2\n"
     ]
    }
   ],
   "source": [
    "# Quadratic Equation Roots = [ [-b ± sqrt(b**2 - 4ac)] / (2a)]\n",
    "a=float(input(\"Enter value of a\"))\n",
    "b=float(input(\"Enter value of b\"))\n",
    "c=float(input(\"Enter value of c\"))\n"
   ]
  },
  {
   "cell_type": "code",
   "execution_count": 5,
   "id": "af89fd47-00f7-4195-938f-2b599c9a1635",
   "metadata": {},
   "outputs": [
    {
     "data": {
      "text/plain": [
       "-8.0"
      ]
     },
     "execution_count": 5,
     "metadata": {},
     "output_type": "execute_result"
    }
   ],
   "source": [
    "y=(b**2-4*a*c)\n",
    "y"
   ]
  },
  {
   "cell_type": "code",
   "execution_count": 7,
   "id": "6980dfcb-cc96-4c67-9dd3-0c1c36749a6e",
   "metadata": {},
   "outputs": [
    {
     "data": {
      "text/plain": [
       "-4.0"
      ]
     },
     "execution_count": 7,
     "metadata": {},
     "output_type": "execute_result"
    }
   ],
   "source": [
    "z=y**1/2\n",
    "z"
   ]
  },
  {
   "cell_type": "code",
   "execution_count": 9,
   "id": "73afbd3f-1334-42ac-8b03-4cfec00e1398",
   "metadata": {},
   "outputs": [
    {
     "data": {
      "text/plain": [
       "-10.0"
      ]
     },
     "execution_count": 9,
     "metadata": {},
     "output_type": "execute_result"
    }
   ],
   "source": [
    "x1=-b+z/2*a\n",
    "x1"
   ]
  },
  {
   "cell_type": "code",
   "execution_count": 17,
   "id": "72ca8e32-9a88-4517-909c-244d87697d27",
   "metadata": {},
   "outputs": [
    {
     "data": {
      "text/plain": [
       "2.0"
      ]
     },
     "execution_count": 17,
     "metadata": {},
     "output_type": "execute_result"
    }
   ],
   "source": [
    "x2=-b-z/2*a\n",
    "x2"
   ]
  },
  {
   "cell_type": "markdown",
   "id": "ed52f4e7-f7fe-4569-8fae-ece4770433c5",
   "metadata": {},
   "source": [
    "# Temperature Conversion"
   ]
  },
  {
   "cell_type": "code",
   "execution_count": 14,
   "id": "c972901b-41d1-4b74-a161-35a072326f73",
   "metadata": {},
   "outputs": [
    {
     "name": "stdin",
     "output_type": "stream",
     "text": [
      "Enter temperature:  42\n"
     ]
    },
    {
     "name": "stdout",
     "output_type": "stream",
     "text": [
      "The Temperature Conversion Is  107.60000000000001\n"
     ]
    }
   ],
   "source": [
    "# Temperature Conversion = 9/5*c+32\n",
    "c=float(input(\"Enter temperature: \"))\n",
    "f=9/5*c+32\n",
    "print(\"The Temperature Conversion Is \",f)"
   ]
  },
  {
   "cell_type": "markdown",
   "id": "cd00af0d-a08d-4740-8a47-6bea673aa8fe",
   "metadata": {},
   "source": [
    "# Gravitational Force"
   ]
  },
  {
   "cell_type": "code",
   "execution_count": 20,
   "id": "57a875df-8e3f-4217-b057-87ed6919f5f7",
   "metadata": {},
   "outputs": [
    {
     "name": "stdin",
     "output_type": "stream",
     "text": [
      "Enter the valur of m1:  10\n",
      "Enter the value of m2:  5\n",
      "Enter the value of r:  4\n"
     ]
    }
   ],
   "source": [
    "m1=float(input(\"Enter the valur of m1: \"))\n",
    "m2=float(input(\"Enter the value of m2: \"))\n",
    "r=float(input(\"Enter the value of r: \"))"
   ]
  },
  {
   "cell_type": "code",
   "execution_count": 22,
   "id": "a16e3f48-7dd6-4806-afc4-38f0b72a812b",
   "metadata": {},
   "outputs": [
    {
     "data": {
      "text/plain": [
       "3.125"
      ]
     },
     "execution_count": 22,
     "metadata": {},
     "output_type": "execute_result"
    }
   ],
   "source": [
    "a=m1*m2/r**2\n",
    "a"
   ]
  },
  {
   "cell_type": "markdown",
   "id": "6c8677b3-6ea8-4c24-8d41-2712e1318266",
   "metadata": {},
   "source": [
    "# Volume of Cylinder "
   ]
  },
  {
   "cell_type": "code",
   "execution_count": 25,
   "id": "034d2cc4-3737-420c-8e0c-64424b6d1e4a",
   "metadata": {},
   "outputs": [
    {
     "name": "stdin",
     "output_type": "stream",
     "text": [
      "Enter radius:  8\n",
      "Enter heigth:  15\n"
     ]
    },
    {
     "name": "stdout",
     "output_type": "stream",
     "text": [
      "The Volume Of Cylinder Is  3014.4\n"
     ]
    }
   ],
   "source": [
    "# Volume of Cylinder =3.14*𝒓**𝟐*𝒉 \n",
    "r=int(input(\"Enter radius: \"))\n",
    "h=int(input(\"Enter heigth: \"))\n",
    "v=(3.14)*(r**2)*(h)\n",
    "print(\"The Volume Of Cylinder Is \",v)"
   ]
  },
  {
   "cell_type": "markdown",
   "id": "72f4d783-de0f-4936-ae47-76c5a91422bf",
   "metadata": {},
   "source": [
    "# Pressure"
   ]
  },
  {
   "cell_type": "code",
   "execution_count": 29,
   "id": "2749b780-78a3-43e2-add0-44991cfefe20",
   "metadata": {},
   "outputs": [
    {
     "name": "stdin",
     "output_type": "stream",
     "text": [
      "Enter force:  25\n",
      "Enter area:  20\n"
     ]
    },
    {
     "name": "stdout",
     "output_type": "stream",
     "text": [
      "The Pressure Is  1.25\n"
     ]
    }
   ],
   "source": [
    "# Pressure = f/a\n",
    "f=float(input(\"Enter force: \"))\n",
    "a=float(input(\"Enter area: \"))\n",
    "p=f/a\n",
    "print(\"The Pressure Is \",p)"
   ]
  },
  {
   "cell_type": "markdown",
   "id": "dec41820-f51d-4df6-9028-9f9143d3d5f1",
   "metadata": {},
   "source": [
    "# Electric power"
   ]
  },
  {
   "cell_type": "code",
   "execution_count": 32,
   "id": "f67686cf-26fa-417b-b581-3fa716846235",
   "metadata": {},
   "outputs": [
    {
     "name": "stdin",
     "output_type": "stream",
     "text": [
      "Enter Voltage:  30\n",
      "Enter Current:  3.2\n"
     ]
    },
    {
     "name": "stdout",
     "output_type": "stream",
     "text": [
      "The Electric Power Is  9.375\n"
     ]
    }
   ],
   "source": [
    "# Electric Power = v/i\n",
    "v=float(input(\"Enter Voltage: \"))\n",
    "i=float(input(\"Enter Current: \"))\n",
    "p=v/i\n",
    "print(\"The Electric Power Is \",p)"
   ]
  },
  {
   "cell_type": "markdown",
   "id": "ace79450-779d-40fb-810f-54e2dd3b7ba4",
   "metadata": {},
   "source": [
    "# Perimeter of a Circle (Circumference)"
   ]
  },
  {
   "cell_type": "code",
   "execution_count": 37,
   "id": "f1c08ded-e940-4a54-b15b-0f94aa643920",
   "metadata": {},
   "outputs": [
    {
     "name": "stdin",
     "output_type": "stream",
     "text": [
      "Enter Radius:  10\n"
     ]
    },
    {
     "name": "stdout",
     "output_type": "stream",
     "text": [
      "The Perimeter Of Circle Is  62.800000000000004\n"
     ]
    }
   ],
   "source": [
    "# Perimeter of a Circle (Circumference) = 2*3.14*r\n",
    "r=float(input(\"Enter Radius: \"))\n",
    "Perimeter_of_Circle=2*3.14*r\n",
    "print(\"The Perimeter Of Circle Is \",Perimeter_of_Circle)"
   ]
  },
  {
   "cell_type": "markdown",
   "id": "e98fbd1b-2347-452f-b7f8-37333f1933bc",
   "metadata": {},
   "source": [
    "# Future Value In Savings"
   ]
  },
  {
   "cell_type": "code",
   "execution_count": 40,
   "id": "e8e1832d-4edb-4e80-a87d-3e868aeef1b0",
   "metadata": {},
   "outputs": [
    {
     "name": "stdin",
     "output_type": "stream",
     "text": [
      "Enter the present value:  300\n",
      "Enter the radius:  20\n",
      "Enter time in years:  3\n"
     ]
    },
    {
     "name": "stdout",
     "output_type": "stream",
     "text": [
      "The Future Value Is  2778300.0\n"
     ]
    }
   ],
   "source": [
    "# Future Value In Savings = 𝑃𝑉(1 + 𝑟)**t\n",
    "pv=float(input(\"Enter the present value: \"))\n",
    "r=float(input(\"Enter the radius: \"))\n",
    "t=float(input(\"Enter time in years: \"))\n",
    "fv=pv*(1+r)**t\n",
    "print(\"The Future Value Is \",fv)"
   ]
  },
  {
   "cell_type": "markdown",
   "id": "71411c5a-516e-4de2-8bea-491abb871a12",
   "metadata": {},
   "source": [
    "# Work Done By Force"
   ]
  },
  {
   "cell_type": "code",
   "execution_count": 45,
   "id": "3755db3e-a7ab-463b-a76a-ab75af682a7e",
   "metadata": {},
   "outputs": [
    {
     "name": "stdin",
     "output_type": "stream",
     "text": [
      "Enter force:  20\n",
      "Enter the Distance:  25\n",
      "Enter angle:  45\n"
     ]
    }
   ],
   "source": [
    "f=float(input(\"Enter force: \"))\n",
    "d=float(input(\"Enter the Distance: \"))\n",
    "theta=float(input(\"Enter angle: \"))\n"
   ]
  },
  {
   "cell_type": "code",
   "execution_count": 47,
   "id": "9a4170e7-72ea-4f73-9135-3b16d39d06f2",
   "metadata": {},
   "outputs": [
    {
     "data": {
      "text/plain": [
       "350.0"
      ]
     },
     "execution_count": 47,
     "metadata": {},
     "output_type": "execute_result"
    }
   ],
   "source": [
    "w=f*d*(0.70)\n",
    "w"
   ]
  },
  {
   "cell_type": "markdown",
   "id": "e660f54c-9cd4-4301-8ca1-7d593feb88f7",
   "metadata": {},
   "source": [
    "# Heat Transfer"
   ]
  },
  {
   "cell_type": "code",
   "execution_count": 50,
   "id": "aa5ae682-eab0-4520-8150-dd7f3b55bc2b",
   "metadata": {},
   "outputs": [
    {
     "name": "stdin",
     "output_type": "stream",
     "text": [
      "Enter mass:  20\n",
      "Enter heat capacity:  45.5\n",
      "Enter teamperature1:  80\n",
      "Enter teamperature2:  120\n"
     ]
    },
    {
     "name": "stdout",
     "output_type": "stream",
     "text": [
      "The Heat Transfer Is  36400.0\n"
     ]
    }
   ],
   "source": [
    "# heat transfer = m*c*(t2-t1)\n",
    "m=float(input(\"Enter mass: \"))\n",
    "c=float(input(\"Enter heat capacity: \"))\n",
    "t1=float(input(\"Enter teamperature1: \"))\n",
    "t2=float(input(\"Enter teamperature2: \"))\n",
    "q=m*c*(t2-t1)\n",
    "print(\"The Heat Transfer Is \",q)"
   ]
  },
  {
   "cell_type": "code",
   "execution_count": null,
   "id": "70aef42b-c7d0-4d1e-a43c-ae35c3ed2a30",
   "metadata": {},
   "outputs": [],
   "source": []
  }
 ],
 "metadata": {
  "kernelspec": {
   "display_name": "Python 3 (ipykernel)",
   "language": "python",
   "name": "python3"
  },
  "language_info": {
   "codemirror_mode": {
    "name": "ipython",
    "version": 3
   },
   "file_extension": ".py",
   "mimetype": "text/x-python",
   "name": "python",
   "nbconvert_exporter": "python",
   "pygments_lexer": "ipython3",
   "version": "3.12.7"
  }
 },
 "nbformat": 4,
 "nbformat_minor": 5
}
